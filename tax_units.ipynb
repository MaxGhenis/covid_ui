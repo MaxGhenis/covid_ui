{
 "cells": [
  {
   "cell_type": "code",
   "execution_count": 1,
   "metadata": {},
   "outputs": [],
   "source": [
    "\"\"\" Makes tax units from the ASEC.\n",
    "\n",
    "Based on Sam Portnow's code at \n",
    "https://users.nber.org/~taxsim/to-taxsim/cps/cps-portnow/TaxSimRScriptForDan.R\n",
    "\"\"\"\n",
    "import numpy as np\n",
    "import pandas as pd\n",
    "\n",
    "# personal exemptions\n",
    "\n",
    "pexemp = pd.DataFrame({\n",
    "  'year': [2018],\n",
    "  'pexemp': [0]})\n",
    "\n",
    "\n",
    "ipum = pd.read_csv('~/UBICenter/covid_ui/asec_2019_ipums.csv.gz')\n",
    "# ipum = pd.read_csv('~/MaxGhenis/datarepo/asec_2019_ipums.csv.gz')\n",
    "# set to lower case\n",
    "ipum.columns = ipum.columns.str.lower()\n",
    "\n",
    "# Set missing income items to zero so that non-filers etc will get zeroes.\n",
    "VARS_MISSING_ZERO = [\n",
    "    'eitcred', 'fedretir', 'fedtax', 'statetax', 'adjginc', 'taxinc',\n",
    "    'fedtaxac', 'fica', 'stataxac', 'incdivid', 'incint', 'incrent',\n",
    "    'incother', 'incasist', 'incss', 'incwelfr', 'incwkcom', 'incvet',\n",
    "    'incchild', 'incunemp', 'inceduc', 'gotveduc', 'gotvothe', 'gotvpens',\n",
    "    'gotvsurv', 'incssi', 'incwage', 'incbus', 'incfarm', 'incsurv',\n",
    "    'incdisab', 'incretir', 'inccapg']\n",
    "\n",
    "\n",
    "# these are the missing codes\n",
    "MISSING_CODES = [9999, 99999, 999999, 9999999,\n",
    "                 -9999, -99999, -999999, -9999999,\n",
    "                 9997, 99997, 999997, 9999997]\n",
    "\n",
    "for var in VARS_MISSING_ZERO:\n",
    "    ipum.loc[ipum[var].isna() | ipum[var].isin(MISSING_CODES), var] = 0\n",
    "\n",
    "assert (ipum[VARS_MISSING_ZERO].isin(MISSING_CODES)).sum().sum() == 0\n",
    "assert (ipum[VARS_MISSING_ZERO].isna()).sum().sum() == 0"
   ]
  },
  {
   "cell_type": "code",
   "execution_count": 2,
   "metadata": {},
   "outputs": [
    {
     "data": {
      "text/plain": [
       "is_dep  depchild  deprel\n",
       "False   0         0         126480\n",
       "True    0         1           2517\n",
       "        1         0          51104\n",
       "dtype: int64"
      ]
     },
     "execution_count": 2,
     "metadata": {},
     "output_type": "execute_result"
    }
   ],
   "source": [
    "# set 0's to NA for location\n",
    "COLS_ZERO_TO_NA = ['momloc', 'poploc', 'sploc']\n",
    "for col in COLS_ZERO_TO_NA:\n",
    "    ipum.loc[ipum[col] == 0, col] = np.nan\n",
    "\n",
    "\n",
    "# year before tax returns\n",
    "ipum['x2'] = ipum.year - 1\n",
    "\n",
    "# set x3 to fips code\n",
    "ipum['x3'] = ipum.statefip\n",
    "\n",
    "# Marital status will be sum of spouse's x4 values\n",
    "ipum['x4'] = 1\n",
    "\n",
    "# https://cps.ipums.org/cps-action/variables/RELATE#codes_section\n",
    "RELATE_COHABITORS_NOT_MARRIED_CODE = 1114\n",
    "ipum.loc[ipum.relate == RELATE_COHABITORS_NOT_MARRIED_CODE, 'sploc'] = np.nan\n",
    "\n",
    "# x6 is age of unmarried people and primary married people (sploc > pernum).\n",
    "# x24 is age of everyone else.\n",
    "ipum['unmarried_primary_married'] = (\n",
    "    ipum.sploc.isna() | ((ipum.sploc > 0) & (ipum.sploc > ipum.pernum)))\n",
    "ipum['x6'] = np.where(ipum.unmarried_primary_married, ipum.age, 0)\n",
    "ipum['x24'] = ipum.age - ipum.x6\n",
    "\n",
    "\n",
    "# primary wage or spouse wage\n",
    "ipum['incwagebusfarm'] = ipum[['incwage', 'incbus', 'incfarm']].sum(axis=1)\n",
    "ipum['x7'] = np.where(ipum.unmarried_primary_married, ipum.incwagebusfarm, 0)\n",
    "ipum['x8'] = ipum.incwagebusfarm - ipum.x7\n",
    "\n",
    "# Add some income variables.\n",
    "ipum['x9'] = ipum.incdivid\n",
    "ipum['x10'] = ipum[['incrent', 'incother']].sum(axis=1)\n",
    "ipum['x11'] = ipum.incretir\n",
    "ipum['x12'] = ipum.incss\n",
    "ipum['x27'] = ipum.incint\n",
    "ipum['x28'] = 0\n",
    "\n",
    "# Other income.\n",
    "ipum['x13'] = ipum[['incwelfr', 'incwkcom', 'incvet', 'incsurv', 'incdisab',\n",
    "                     'incchild', 'inceduc', 'incssi', 'incasist']].sum(axis=1)\n",
    "\n",
    "ipum['x14'] = ipum.incrent\n",
    "ipum['x15'] = 0\n",
    "\n",
    "\n",
    "# /* use Census imputation of itemized deductions where available.*/\n",
    "# first have to join the exemption table\n",
    "pexemp.rename(columns={'year': 'x2'}, inplace=True)\n",
    "ipum = ipum.merge(pexemp, on='x2')\n",
    "\n",
    "# adjusted gross - taxes + exemptions\n",
    "ipum['x16'] = (ipum.adjginc - \n",
    "    ipum[['pexemp', 'statetax', 'taxinc']].sum(axis=1))\n",
    "# no values less than 0\n",
    "ipum['x16'] = np.where(ipum.x16 < 0, 0, ipum.x16)\n",
    "\n",
    "ipum['x17'] = 0\n",
    "ipum['x18'] = ipum.incunemp\n",
    "ipum['x19'] = 0\n",
    "ipum['x20'] = 0\n",
    "ipum['x21'] = 0\n",
    "\n",
    "# Assume inccapg is long term (caploss is no longer in IPUMS CPS)\n",
    "ipum['x22'] = ipum.inccapg\n",
    "\n",
    "\n",
    "# Here we output a record for each person, so that tax units can be formed \n",
    "# later by summing over person records. The taxunit id is the minimum of\n",
    "# the pernum or sploc, so spouses will get the same id. For children\n",
    "# it is the minimum of the momloc or poploc. Other relatives are made\n",
    "# dependent on the household head (which may be incorrect) and non-relatives\n",
    "# are separate tax units. \n",
    "# */\n",
    "\n",
    "RELATE_HEAD_OF_HOUSEHOLD_CODE = 101\n",
    "ipum['hnum'] = np.where(ipum.relate == RELATE_HEAD_OF_HOUSEHOLD_CODE,\n",
    "                        ipum.pernum, np.nan)\n",
    "\n",
    "# People with income above the personal exemption must file separately.\n",
    "ipum['claimed_income'] = ipum[['x7', 'x8', 'x9', 'x10', 'x11', 'x12', 'x13',\n",
    "                               'x22']].sum(axis=1)\n",
    "ipum['notself'] = np.where(ipum.claimed_income <= ipum.pexemp, 1, 0)\n",
    "\n",
    "# If someone is a dependent of their spouse, set dependent pointer to 0.\n",
    "ipum.loc[~ipum.sploc.isna() & (ipum.depstat > 0) & (ipum.depstat == ipum.sploc),\n",
    "         'depstat'] = 0\n",
    "\n",
    "ipum['is_dep'] = ipum.depstat > 0\n",
    "\n",
    "# Dependent children must be dependents with a parent who is below age 18,\n",
    "# or below age 24 if in school.\n",
    "ipum['depchild'] = np.where(\n",
    "    ipum.is_dep &\n",
    "    (~ipum.momloc.isna() | ~ipum.poploc.isna()) &\n",
    "    ((ipum.age < 18) | ((ipum.age < 24) & (ipum.schlcoll > 0))),\n",
    "    1, 0)\n",
    "\n",
    "# Dependent relatives are dependents who are not dependent children.\n",
    "ipum['deprel'] = np.where(ipum.is_dep & (ipum.depchild == 0), 1, 0)\n",
    "# Define dependent children under age 13/17/18.\n",
    "for i in [13, 17, 18]:\n",
    "    ipum['dep' + str(i)] = np.where(ipum.is_dep & (ipum.age < i), 1, 0)\n",
    "\n",
    "ipum.groupby(['is_dep', 'depchild', 'deprel']).size()"
   ]
  },
  {
   "cell_type": "code",
   "execution_count": 3,
   "metadata": {},
   "outputs": [],
   "source": [
    "# set dependents and taxpayers\n",
    "deps = ipum[ipum.is_dep].copy(deep=True)\n",
    "\n",
    "# Define identifier as 100 * serial (household) + tax unit sub-identifier\n",
    "deps['x1'] = (100 * deps.serial +\n",
    "              np.where(deps.depchild, np.fmin(deps.momloc, deps.poploc),\n",
    "                       deps.hnum))\n",
    "\n",
    "deps['x4'] = np.nan\n",
    "deps['x5'] = 1\n",
    "deps['x6'] = 0\n",
    "deps['x19'] = np.nan\n",
    "deps['x23'] = np.nan\n",
    "deps['x24'] = 0"
   ]
  },
  {
   "cell_type": "code",
   "execution_count": 4,
   "metadata": {},
   "outputs": [],
   "source": [
    "txpyrs = ipum[~ipum.is_dep].copy(deep=True)\n",
    "txpyrs['x1'] = 100 * txpyrs.serial + np.fmin(txpyrs.pernum, txpyrs.sploc)\n",
    "txpyrs['x5'] = 0\n",
    "txpyrs['x23'] = np.nan\n",
    "\n",
    "\n",
    "# set whats not x1, x2, or x5 in deps to NA\n",
    "vars = ['x' + str(i) for i in [3, 4, 27, 28] + list(range(6, 23))]\n",
    "deps[vars] = np.nan\n",
    "\n",
    "# put them back together\n",
    "ipum2 = pd.concat([txpyrs, deps])\n",
    "\n",
    "\n",
    "# sum value over tax #\n",
    "ipum2['n'] = 1\n",
    "ipum2.rename({'dep17': 'x25', 'dep18': 'x26'}, axis=1, inplace=True)\n",
    "\n",
    "concat_sum = ipum2.groupby(['x2', 'x1'])[\n",
    "    ['n'] + ['x' + str(i) for i in list(range(3, 29))]].sum()\n",
    "concat_sum.x3 /= concat_sum.n\n",
    "# x6 and x24 should be max not sum, and n is no longer necessary.\n",
    "concat_sum.drop(['x6', 'x24', 'n'], axis=1, inplace=True)\n",
    "\n",
    "concat_max = ipum2.groupby(['x2', 'x1'])[['x6', 'x24']].max()\n",
    "concat_min = ipum2.groupby(['x2', 'x1'])[['serial', 'pernum']].min()\n",
    "concat_min.columns = ['x29', 'x30']\n",
    "\n",
    "concat = concat_sum.join(concat_max).join(concat_min).reset_index()\n",
    "\n",
    "concat = concat[(concat.x19 >= 0) & (concat.x4) > 0]\n",
    "\n",
    "concat = concat[['x' + str(i) for i in list(range(1, 31))]]\n",
    "\n",
    "concat.columns = ['taxsimid', 'year', 'state', 'mstat', 'depx', 'page',\n",
    "                  'pwages', 'swages', 'dividends', 'otherprop', 'pensions',\n",
    "                  'gssi', 'transfers', 'rentpaid', 'proptax', 'otheritem',\n",
    "                  'childcare', 'ui', 'depchild', 'mortgage', 'stcg', 'ltcg',\n",
    "                  'dep13', 'sage', 'dep17', 'dep18', 'intrec', 'nonprop',\n",
    "                  'serial', 'pernum']\n",
    "\n",
    "ids = concat[['taxsimid', 'serial', 'pernum']]"
   ]
  },
  {
   "cell_type": "code",
   "execution_count": 77,
   "metadata": {},
   "outputs": [],
   "source": [
    "crosswalk = ipum2[['serial', 'pernum', 'x1', 'spmfamunit']].copy(deep=True)\n",
    "crosswalk.rename({'x1': 'taxsimid'}, axis=1, inplace=True)"
   ]
  },
  {
   "cell_type": "code",
   "execution_count": 6,
   "metadata": {},
   "outputs": [],
   "source": [
    "concat.to_csv('2018_taxsim_units.csv', index=False)"
   ]
  },
  {
   "cell_type": "code",
   "execution_count": 11,
   "metadata": {},
   "outputs": [
    {
     "data": {
      "text/plain": [
       "array([ 0,  1,  9,  2,  3,  4,  5,  7,  6,  8, 10, 11])"
      ]
     },
     "execution_count": 11,
     "metadata": {},
     "output_type": "execute_result"
    }
   ],
   "source": [
    "concat.depx.unique()"
   ]
  },
  {
   "cell_type": "markdown",
   "metadata": {},
   "source": [
    "Define crosswalk from tax unit to SPM unit.\n",
    "\n",
    "**NOTE: Some tax units map to multiple SPM units.**"
   ]
  },
  {
   "cell_type": "code",
   "execution_count": 90,
   "metadata": {},
   "outputs": [
    {
     "data": {
      "text/plain": [
       "(180101, 92)"
      ]
     },
     "execution_count": 90,
     "metadata": {},
     "output_type": "execute_result"
    }
   ],
   "source": [
    "ipum.shape"
   ]
  },
  {
   "cell_type": "code",
   "execution_count": 92,
   "metadata": {},
   "outputs": [
    {
     "data": {
      "text/plain": [
       "Int64Index([     0,      1,      2,      3,      4,      5,      6,      7,\n",
       "                 8,      9,\n",
       "            ...\n",
       "            180070, 180073, 180080, 180081, 180088, 180089, 180090, 180091,\n",
       "            180097, 180098],\n",
       "           dtype='int64', length=180101)"
      ]
     },
     "execution_count": 92,
     "metadata": {},
     "output_type": "execute_result"
    }
   ],
   "source": [
    "ipum2.index"
   ]
  },
  {
   "cell_type": "code",
   "execution_count": 89,
   "metadata": {},
   "outputs": [
    {
     "data": {
      "text/plain": [
       "118109"
      ]
     },
     "execution_count": 89,
     "metadata": {},
     "output_type": "execute_result"
    }
   ],
   "source": [
    "ipum.cpsidp.nunique()"
   ]
  },
  {
   "cell_type": "code",
   "execution_count": 87,
   "metadata": {},
   "outputs": [
    {
     "data": {
      "text/plain": [
       "Index(['year', 'serial', 'month', 'cpsid', 'asecflag', 'asecwth', 'statefip',\n",
       "       'pernum', 'cpsidp', 'asecwt', 'relate', 'age', 'sex', 'race', 'momloc',\n",
       "       'poploc', 'sploc', 'schlcoll', 'wksunem1', 'incwage', 'incbus',\n",
       "       'incfarm', 'incss', 'incwelfr', 'incretir', 'incssi', 'incint',\n",
       "       'incunemp', 'incwkcom', 'incvet', 'incsurv', 'incdisab', 'incdivid',\n",
       "       'incrent', 'inceduc', 'incchild', 'incasist', 'incother', 'inccapg',\n",
       "       'gotveduc', 'gotvothe', 'gotvpens', 'gotvsurv', 'adjginc', 'eitcred',\n",
       "       'fedretir', 'fedtax', 'fedtaxac', 'fica', 'depstat', 'statetax',\n",
       "       'stataxac', 'taxinc', 'spmwt', 'spmtotres', 'spmthresh', 'spmfamunit',\n",
       "       'x2', 'x3', 'x4', 'unmarried_primary_married', 'x6', 'x24',\n",
       "       'incwagebusfarm', 'x7', 'x8', 'x9', 'x10', 'x11', 'x12', 'x27', 'x28',\n",
       "       'x13', 'x14', 'x15', 'pexemp', 'x16', 'x17', 'x18', 'x19', 'x20', 'x21',\n",
       "       'x22', 'hnum', 'claimed_income', 'notself', 'is_dep', 'depchild',\n",
       "       'deprel', 'dep13', 'x25', 'x26', 'x1', 'x5', 'x23', 'n'],\n",
       "      dtype='object')"
      ]
     },
     "execution_count": 87,
     "metadata": {},
     "output_type": "execute_result"
    }
   ],
   "source": [
    "ipum2.columns"
   ]
  },
  {
   "cell_type": "code",
   "execution_count": 79,
   "metadata": {},
   "outputs": [
    {
     "data": {
      "text/plain": [
       "86394"
      ]
     },
     "execution_count": 79,
     "metadata": {},
     "output_type": "execute_result"
    }
   ],
   "source": [
    "crosswalk.taxsimid.nunique()"
   ]
  },
  {
   "cell_type": "code",
   "execution_count": 80,
   "metadata": {},
   "outputs": [
    {
     "data": {
      "text/plain": [
       "88310"
      ]
     },
     "execution_count": 80,
     "metadata": {},
     "output_type": "execute_result"
    }
   ],
   "source": [
    "crosswalk[['taxsimid', 'spmfamunit']].drop_duplicates().shape[0]"
   ]
  },
  {
   "cell_type": "markdown",
   "metadata": {},
   "source": [
    "Each person gets the share of the tax change in accord with their UI."
   ]
  },
  {
   "cell_type": "code",
   "execution_count": null,
   "metadata": {},
   "outputs": [],
   "source": [
    "tu_spm_crosswalk = "
   ]
  },
  {
   "cell_type": "markdown",
   "metadata": {},
   "source": [
    "## Convert to taxcalc\n",
    "\n",
    "Rename and process per https://github.com/PSLmodels/Tax-Calculator/blob/master/taxcalc/validation/taxsim27/prepare_taxcalc_input.py"
   ]
  },
  {
   "cell_type": "code",
   "execution_count": 12,
   "metadata": {},
   "outputs": [],
   "source": [
    "TAXSIM_TAXCALC_COLS = {\n",
    "    'taxsimid': 'RECID',\n",
    "    'year': 'FLPDYR',\n",
    "    'mstat': 'mstat',\n",
    "    'page': 'age_head',\n",
    "    'sage': 'age_spouse',\n",
    "    'depx': 'num_deps',\n",
    "    'dep13': 'f2441',\n",
    "    'dep17': 'n24',\n",
    "    'dep18': 'num_eitc_qualified_kids',\n",
    "    'pwages': 'e00200p',\n",
    "    'swages': 'e00200s',\n",
    "    'dividends': 'e00650',\n",
    "    'intrec': 'e00300',\n",
    "    'stcg': 'p22250',\n",
    "    'ltcg': 'p23250',\n",
    "    'otherprop': 'e02000',\n",
    "    'nonprop': 'e00800',\n",
    "    'pensions': 'e01700',\n",
    "    'gssi': 'e02400',\n",
    "    'ui': 'e02300',\n",
    "    'proptax': 'e18500',\n",
    "    'otheritem': 'e18400',\n",
    "    'childcare': 'e32800',\n",
    "    'mortgage': 'e19200',\n",
    "}"
   ]
  },
  {
   "cell_type": "code",
   "execution_count": 13,
   "metadata": {},
   "outputs": [],
   "source": [
    "cps_tc = concat.rename(columns=TAXSIM_TAXCALC_COLS)"
   ]
  },
  {
   "cell_type": "markdown",
   "metadata": {},
   "source": [
    "### Preprocess"
   ]
  },
  {
   "cell_type": "code",
   "execution_count": 34,
   "metadata": {},
   "outputs": [],
   "source": [
    "cps_tc['MARS'] = np.where(cps_tc.mstat == 1,\n",
    "                          np.where(cps_tc.num_deps > 0, 4, 1), 2)\n",
    "cps_tc['EIC'] = np.minimum(cps_tc.num_eitc_qualified_kids, 3)\n",
    "num_taxpayers = np.where(cps_tc.MARS == 2, 2, 1)\n",
    "cps_tc['XTOT'] = num_taxpayers + cps_tc.num_deps\n",
    "cps_tc['e00200'] = cps_tc['e00200p'] + cps_tc['e00200s']\n",
    "cps_tc['e00600'] = cps_tc['e00650']\n",
    "cps_tc['e01500'] = cps_tc['e01700']"
   ]
  },
  {
   "cell_type": "markdown",
   "metadata": {},
   "source": [
    "## Run tax analysis"
   ]
  },
  {
   "cell_type": "code",
   "execution_count": 36,
   "metadata": {},
   "outputs": [],
   "source": [
    "import taxcalc as tc\n",
    "import microdf as mdf"
   ]
  },
  {
   "cell_type": "code",
   "execution_count": 58,
   "metadata": {},
   "outputs": [
    {
     "data": {
      "text/plain": [
       "13274    0.0\n",
       "47924    0.0\n",
       "77911    0.0\n",
       "81577    0.0\n",
       "Name: page, dtype: float64"
      ]
     },
     "execution_count": 58,
     "metadata": {},
     "output_type": "execute_result"
    }
   ],
   "source": [
    "concat[(concat.mstat == 1) & (concat.swages != 0)].page"
   ]
  },
  {
   "cell_type": "code",
   "execution_count": 60,
   "metadata": {},
   "outputs": [
    {
     "data": {
      "text/html": [
       "<div>\n",
       "<style scoped>\n",
       "    .dataframe tbody tr th:only-of-type {\n",
       "        vertical-align: middle;\n",
       "    }\n",
       "\n",
       "    .dataframe tbody tr th {\n",
       "        vertical-align: top;\n",
       "    }\n",
       "\n",
       "    .dataframe thead th {\n",
       "        text-align: right;\n",
       "    }\n",
       "</style>\n",
       "<table border=\"1\" class=\"dataframe\">\n",
       "  <thead>\n",
       "    <tr style=\"text-align: right;\">\n",
       "      <th></th>\n",
       "      <th>RECID</th>\n",
       "      <th>FLPDYR</th>\n",
       "      <th>state</th>\n",
       "      <th>mstat</th>\n",
       "      <th>num_deps</th>\n",
       "      <th>age_head</th>\n",
       "      <th>e00200p</th>\n",
       "      <th>e00200s</th>\n",
       "      <th>e00650</th>\n",
       "      <th>e02000</th>\n",
       "      <th>...</th>\n",
       "      <th>e00300</th>\n",
       "      <th>e00800</th>\n",
       "      <th>serial</th>\n",
       "      <th>pernum</th>\n",
       "      <th>MARS</th>\n",
       "      <th>EIC</th>\n",
       "      <th>XTOT</th>\n",
       "      <th>e00200</th>\n",
       "      <th>e00600</th>\n",
       "      <th>e01500</th>\n",
       "    </tr>\n",
       "  </thead>\n",
       "  <tbody>\n",
       "    <tr>\n",
       "      <th>47924</th>\n",
       "      <td>5458701.0</td>\n",
       "      <td>2018</td>\n",
       "      <td>47.0</td>\n",
       "      <td>1.0</td>\n",
       "      <td>0</td>\n",
       "      <td>0.0</td>\n",
       "      <td>0.0</td>\n",
       "      <td>16000.0</td>\n",
       "      <td>0.0</td>\n",
       "      <td>0.0</td>\n",
       "      <td>...</td>\n",
       "      <td>0.0</td>\n",
       "      <td>0.0</td>\n",
       "      <td>54587</td>\n",
       "      <td>4</td>\n",
       "      <td>1</td>\n",
       "      <td>0</td>\n",
       "      <td>1</td>\n",
       "      <td>16000.0</td>\n",
       "      <td>0.0</td>\n",
       "      <td>0.0</td>\n",
       "    </tr>\n",
       "    <tr>\n",
       "      <th>81577</th>\n",
       "      <td>9000601.0</td>\n",
       "      <td>2018</td>\n",
       "      <td>6.0</td>\n",
       "      <td>1.0</td>\n",
       "      <td>0</td>\n",
       "      <td>0.0</td>\n",
       "      <td>0.0</td>\n",
       "      <td>6000.0</td>\n",
       "      <td>0.0</td>\n",
       "      <td>0.0</td>\n",
       "      <td>...</td>\n",
       "      <td>0.0</td>\n",
       "      <td>0.0</td>\n",
       "      <td>90006</td>\n",
       "      <td>5</td>\n",
       "      <td>1</td>\n",
       "      <td>0</td>\n",
       "      <td>1</td>\n",
       "      <td>6000.0</td>\n",
       "      <td>0.0</td>\n",
       "      <td>0.0</td>\n",
       "    </tr>\n",
       "  </tbody>\n",
       "</table>\n",
       "<p>2 rows × 36 columns</p>\n",
       "</div>"
      ],
      "text/plain": [
       "           RECID  FLPDYR  state  mstat  num_deps  age_head  e00200p  e00200s  \\\n",
       "47924  5458701.0    2018   47.0    1.0         0       0.0      0.0  16000.0   \n",
       "81577  9000601.0    2018    6.0    1.0         0       0.0      0.0   6000.0   \n",
       "\n",
       "       e00650  e02000  ...  e00300  e00800  serial  pernum  MARS  EIC  XTOT  \\\n",
       "47924     0.0     0.0  ...     0.0     0.0   54587       4     1    0     1   \n",
       "81577     0.0     0.0  ...     0.0     0.0   90006       5     1    0     1   \n",
       "\n",
       "        e00200  e00600  e01500  \n",
       "47924  16000.0     0.0     0.0  \n",
       "81577   6000.0     0.0     0.0  \n",
       "\n",
       "[2 rows x 36 columns]"
      ]
     },
     "execution_count": 60,
     "metadata": {},
     "output_type": "execute_result"
    }
   ],
   "source": [
    "single_spouses = cps_tc[(cps_tc.e00200s != 0) & (cps_tc.MARS == 1)]\n",
    "cps_tc[cps_tc.RECID.isin(single_spouses.RECID)]"
   ]
  },
  {
   "cell_type": "code",
   "execution_count": 70,
   "metadata": {},
   "outputs": [
    {
     "name": "stdout",
     "output_type": "stream",
     "text": [
      "2  records are single but have nonzero spouse wages\n"
     ]
    }
   ],
   "source": [
    "# TODO: Figure out why this is happening.\n",
    "# Manually fix this for now.\n",
    "single_spouses = cps_tc[(cps_tc.e00200s != 0) &\n",
    "                        (cps_tc.MARS !=2)].copy(deep=True)\n",
    "print(str(single_spouses.shape[0]),\n",
    "      ' records are single but have nonzero spouse wages')\n",
    "single_spouses.e00200p = single_spouses.e00200s\n",
    "single_spouses.e00200s = 0\n",
    "single_spouses.age_head = single_spouses.age_spouse\n",
    "single_spouses.age_spouse = 0\n",
    "# Recombine\n",
    "cps_tc = pd.concat([cps_tc[~cps_tc.RECID.isin(single_spouses.RECID)],\n",
    "                   single_spouses])"
   ]
  },
  {
   "cell_type": "code",
   "execution_count": 71,
   "metadata": {},
   "outputs": [],
   "source": [
    "calcdf = mdf.calc_df(records=tc.Records(cps_tc))"
   ]
  },
  {
   "cell_type": "code",
   "execution_count": 73,
   "metadata": {},
   "outputs": [
    {
     "data": {
      "text/plain": [
       "RECID\n",
       "401         4790.157719\n",
       "601            0.000000\n",
       "701         2763.843475\n",
       "801            0.000000\n",
       "802         2763.843475\n",
       "               ...     \n",
       "9463302    10880.084454\n",
       "5458701     4091.791300\n",
       "9000601     1204.600893\n",
       "1516201    -4834.439590\n",
       "8678301    18768.067513\n",
       "Name: tax, Length: 86022, dtype: float64"
      ]
     },
     "execution_count": 73,
     "metadata": {},
     "output_type": "execute_result"
    }
   ],
   "source": []
  },
  {
   "cell_type": "code",
   "execution_count": 66,
   "metadata": {},
   "outputs": [
    {
     "data": {
      "text/plain": [
       "Index(['RECID', 'FLPDYR', 'state', 'mstat', 'num_deps', 'age_head', 'e00200p',\n",
       "       'e00200s', 'e00650', 'e02000', 'e01700', 'e02400', 'transfers',\n",
       "       'rentpaid', 'e18500', 'e18400', 'e32800', 'e02300', 'depchild',\n",
       "       'e19200', 'p22250', 'p23250', 'f2441', 'age_spouse', 'n24',\n",
       "       'num_eitc_qualified_kids', 'e00300', 'e00800', 'serial', 'pernum',\n",
       "       'MARS', 'EIC', 'XTOT', 'e00200', 'e00600', 'e01500'],\n",
       "      dtype='object')"
      ]
     },
     "execution_count": 66,
     "metadata": {},
     "output_type": "execute_result"
    }
   ],
   "source": [
    "cps_tc.columns"
   ]
  },
  {
   "cell_type": "code",
   "execution_count": 50,
   "metadata": {},
   "outputs": [
    {
     "data": {
      "text/html": [
       "<div>\n",
       "<style scoped>\n",
       "    .dataframe tbody tr th:only-of-type {\n",
       "        vertical-align: middle;\n",
       "    }\n",
       "\n",
       "    .dataframe tbody tr th {\n",
       "        vertical-align: top;\n",
       "    }\n",
       "\n",
       "    .dataframe thead th {\n",
       "        text-align: right;\n",
       "    }\n",
       "</style>\n",
       "<table border=\"1\" class=\"dataframe\">\n",
       "  <thead>\n",
       "    <tr style=\"text-align: right;\">\n",
       "      <th></th>\n",
       "      <th>serial</th>\n",
       "      <th>pernum</th>\n",
       "      <th>taxsimid</th>\n",
       "    </tr>\n",
       "  </thead>\n",
       "  <tbody>\n",
       "    <tr>\n",
       "      <th>99400</th>\n",
       "      <td>54587</td>\n",
       "      <td>2</td>\n",
       "      <td>5458702.0</td>\n",
       "    </tr>\n",
       "    <tr>\n",
       "      <th>99402</th>\n",
       "      <td>54587</td>\n",
       "      <td>4</td>\n",
       "      <td>5458701.0</td>\n",
       "    </tr>\n",
       "    <tr>\n",
       "      <th>99399</th>\n",
       "      <td>54587</td>\n",
       "      <td>1</td>\n",
       "      <td>5458702.0</td>\n",
       "    </tr>\n",
       "    <tr>\n",
       "      <th>99401</th>\n",
       "      <td>54587</td>\n",
       "      <td>3</td>\n",
       "      <td>5458702.0</td>\n",
       "    </tr>\n",
       "  </tbody>\n",
       "</table>\n",
       "</div>"
      ],
      "text/plain": [
       "       serial  pernum   taxsimid\n",
       "99400   54587       2  5458702.0\n",
       "99402   54587       4  5458701.0\n",
       "99399   54587       1  5458702.0\n",
       "99401   54587       3  5458702.0"
      ]
     },
     "execution_count": 50,
     "metadata": {},
     "output_type": "execute_result"
    }
   ],
   "source": [
    "crosswalk[crosswalk.serial == 54587]"
   ]
  },
  {
   "cell_type": "code",
   "execution_count": 49,
   "metadata": {},
   "outputs": [
    {
     "data": {
      "text/html": [
       "<div>\n",
       "<style scoped>\n",
       "    .dataframe tbody tr th:only-of-type {\n",
       "        vertical-align: middle;\n",
       "    }\n",
       "\n",
       "    .dataframe tbody tr th {\n",
       "        vertical-align: top;\n",
       "    }\n",
       "\n",
       "    .dataframe thead th {\n",
       "        text-align: right;\n",
       "    }\n",
       "</style>\n",
       "<table border=\"1\" class=\"dataframe\">\n",
       "  <thead>\n",
       "    <tr style=\"text-align: right;\">\n",
       "      <th></th>\n",
       "      <th>serial</th>\n",
       "      <th>pernum</th>\n",
       "      <th>taxsimid</th>\n",
       "    </tr>\n",
       "  </thead>\n",
       "  <tbody>\n",
       "    <tr>\n",
       "      <th>99402</th>\n",
       "      <td>54587</td>\n",
       "      <td>4</td>\n",
       "      <td>5458701.0</td>\n",
       "    </tr>\n",
       "    <tr>\n",
       "      <th>170344</th>\n",
       "      <td>90006</td>\n",
       "      <td>5</td>\n",
       "      <td>9000601.0</td>\n",
       "    </tr>\n",
       "  </tbody>\n",
       "</table>\n",
       "</div>"
      ],
      "text/plain": [
       "        serial  pernum   taxsimid\n",
       "99402    54587       4  5458701.0\n",
       "170344   90006       5  9000601.0"
      ]
     },
     "execution_count": 49,
     "metadata": {},
     "output_type": "execute_result"
    }
   ],
   "source": [
    "crosswalk[crosswalk.taxsimid.isin([5458701, 9000601])]"
   ]
  },
  {
   "cell_type": "code",
   "execution_count": 45,
   "metadata": {},
   "outputs": [
    {
     "data": {
      "text/html": [
       "<div>\n",
       "<style scoped>\n",
       "    .dataframe tbody tr th:only-of-type {\n",
       "        vertical-align: middle;\n",
       "    }\n",
       "\n",
       "    .dataframe tbody tr th {\n",
       "        vertical-align: top;\n",
       "    }\n",
       "\n",
       "    .dataframe thead th {\n",
       "        text-align: right;\n",
       "    }\n",
       "</style>\n",
       "<table border=\"1\" class=\"dataframe\">\n",
       "  <thead>\n",
       "    <tr style=\"text-align: right;\">\n",
       "      <th></th>\n",
       "      <th>RECID</th>\n",
       "      <th>FLPDYR</th>\n",
       "      <th>state</th>\n",
       "      <th>mstat</th>\n",
       "      <th>num_deps</th>\n",
       "      <th>age_head</th>\n",
       "      <th>e00200p</th>\n",
       "      <th>e00200s</th>\n",
       "      <th>e00650</th>\n",
       "      <th>e02000</th>\n",
       "      <th>...</th>\n",
       "      <th>e00300</th>\n",
       "      <th>e00800</th>\n",
       "      <th>serial</th>\n",
       "      <th>pernum</th>\n",
       "      <th>MARS</th>\n",
       "      <th>EIC</th>\n",
       "      <th>XTOT</th>\n",
       "      <th>e00200</th>\n",
       "      <th>e00600</th>\n",
       "      <th>e01500</th>\n",
       "    </tr>\n",
       "  </thead>\n",
       "  <tbody>\n",
       "    <tr>\n",
       "      <th>47924</th>\n",
       "      <td>5458701.0</td>\n",
       "      <td>2018</td>\n",
       "      <td>47.0</td>\n",
       "      <td>1.0</td>\n",
       "      <td>0</td>\n",
       "      <td>0.0</td>\n",
       "      <td>0.0</td>\n",
       "      <td>16000.0</td>\n",
       "      <td>0.0</td>\n",
       "      <td>0.0</td>\n",
       "      <td>...</td>\n",
       "      <td>0.0</td>\n",
       "      <td>0.0</td>\n",
       "      <td>54587</td>\n",
       "      <td>4</td>\n",
       "      <td>1</td>\n",
       "      <td>0</td>\n",
       "      <td>1</td>\n",
       "      <td>16000.0</td>\n",
       "      <td>0.0</td>\n",
       "      <td>0.0</td>\n",
       "    </tr>\n",
       "    <tr>\n",
       "      <th>81577</th>\n",
       "      <td>9000601.0</td>\n",
       "      <td>2018</td>\n",
       "      <td>6.0</td>\n",
       "      <td>1.0</td>\n",
       "      <td>0</td>\n",
       "      <td>0.0</td>\n",
       "      <td>0.0</td>\n",
       "      <td>6000.0</td>\n",
       "      <td>0.0</td>\n",
       "      <td>0.0</td>\n",
       "      <td>...</td>\n",
       "      <td>0.0</td>\n",
       "      <td>0.0</td>\n",
       "      <td>90006</td>\n",
       "      <td>5</td>\n",
       "      <td>1</td>\n",
       "      <td>0</td>\n",
       "      <td>1</td>\n",
       "      <td>6000.0</td>\n",
       "      <td>0.0</td>\n",
       "      <td>0.0</td>\n",
       "    </tr>\n",
       "  </tbody>\n",
       "</table>\n",
       "<p>2 rows × 36 columns</p>\n",
       "</div>"
      ],
      "text/plain": [
       "           RECID  FLPDYR  state  mstat  num_deps  age_head  e00200p  e00200s  \\\n",
       "47924  5458701.0    2018   47.0    1.0         0       0.0      0.0  16000.0   \n",
       "81577  9000601.0    2018    6.0    1.0         0       0.0      0.0   6000.0   \n",
       "\n",
       "       e00650  e02000  ...  e00300  e00800  serial  pernum  MARS  EIC  XTOT  \\\n",
       "47924     0.0     0.0  ...     0.0     0.0   54587       4     1    0     1   \n",
       "81577     0.0     0.0  ...     0.0     0.0   90006       5     1    0     1   \n",
       "\n",
       "        e00200  e00600  e01500  \n",
       "47924  16000.0     0.0     0.0  \n",
       "81577   6000.0     0.0     0.0  \n",
       "\n",
       "[2 rows x 36 columns]"
      ]
     },
     "execution_count": 45,
     "metadata": {},
     "output_type": "execute_result"
    }
   ],
   "source": [
    "cps_tc[(cps_tc.e00200s != 0) & cps_tc.MARS.isin([1, 5])]"
   ]
  },
  {
   "cell_type": "code",
   "execution_count": 15,
   "metadata": {},
   "outputs": [
    {
     "data": {
      "text/html": [
       "<div>\n",
       "<style scoped>\n",
       "    .dataframe tbody tr th:only-of-type {\n",
       "        vertical-align: middle;\n",
       "    }\n",
       "\n",
       "    .dataframe tbody tr th {\n",
       "        vertical-align: top;\n",
       "    }\n",
       "\n",
       "    .dataframe thead th {\n",
       "        text-align: right;\n",
       "    }\n",
       "</style>\n",
       "<table border=\"1\" class=\"dataframe\">\n",
       "  <thead>\n",
       "    <tr style=\"text-align: right;\">\n",
       "      <th></th>\n",
       "      <th>RECID</th>\n",
       "      <th>FLPDYR</th>\n",
       "      <th>state</th>\n",
       "      <th>mstat</th>\n",
       "      <th>num_deps</th>\n",
       "      <th>age_head</th>\n",
       "      <th>e00200p</th>\n",
       "      <th>e00200s</th>\n",
       "      <th>e00650</th>\n",
       "      <th>e02000</th>\n",
       "      <th>...</th>\n",
       "      <th>p22250</th>\n",
       "      <th>p23250</th>\n",
       "      <th>f2441</th>\n",
       "      <th>age_spouse</th>\n",
       "      <th>n24</th>\n",
       "      <th>num_eitc_qualified_kids</th>\n",
       "      <th>e00300</th>\n",
       "      <th>e00800</th>\n",
       "      <th>serial</th>\n",
       "      <th>pernum</th>\n",
       "    </tr>\n",
       "  </thead>\n",
       "  <tbody>\n",
       "    <tr>\n",
       "      <th>0</th>\n",
       "      <td>401.0</td>\n",
       "      <td>2018</td>\n",
       "      <td>23.0</td>\n",
       "      <td>1.0</td>\n",
       "      <td>0</td>\n",
       "      <td>21.0</td>\n",
       "      <td>18000.0</td>\n",
       "      <td>0.0</td>\n",
       "      <td>0.0</td>\n",
       "      <td>0.0</td>\n",
       "      <td>...</td>\n",
       "      <td>0.0</td>\n",
       "      <td>0.0</td>\n",
       "      <td>0.0</td>\n",
       "      <td>0</td>\n",
       "      <td>0</td>\n",
       "      <td>0</td>\n",
       "      <td>0.0</td>\n",
       "      <td>0.0</td>\n",
       "      <td>4</td>\n",
       "      <td>1</td>\n",
       "    </tr>\n",
       "    <tr>\n",
       "      <th>1</th>\n",
       "      <td>601.0</td>\n",
       "      <td>2018</td>\n",
       "      <td>23.0</td>\n",
       "      <td>1.0</td>\n",
       "      <td>0</td>\n",
       "      <td>85.0</td>\n",
       "      <td>0.0</td>\n",
       "      <td>0.0</td>\n",
       "      <td>0.0</td>\n",
       "      <td>0.0</td>\n",
       "      <td>...</td>\n",
       "      <td>0.0</td>\n",
       "      <td>0.0</td>\n",
       "      <td>0.0</td>\n",
       "      <td>0</td>\n",
       "      <td>0</td>\n",
       "      <td>0</td>\n",
       "      <td>0.0</td>\n",
       "      <td>0.0</td>\n",
       "      <td>6</td>\n",
       "      <td>1</td>\n",
       "    </tr>\n",
       "    <tr>\n",
       "      <th>2</th>\n",
       "      <td>701.0</td>\n",
       "      <td>2018</td>\n",
       "      <td>23.0</td>\n",
       "      <td>1.0</td>\n",
       "      <td>0</td>\n",
       "      <td>61.0</td>\n",
       "      <td>12000.0</td>\n",
       "      <td>0.0</td>\n",
       "      <td>0.0</td>\n",
       "      <td>0.0</td>\n",
       "      <td>...</td>\n",
       "      <td>0.0</td>\n",
       "      <td>0.0</td>\n",
       "      <td>0.0</td>\n",
       "      <td>0</td>\n",
       "      <td>0</td>\n",
       "      <td>0</td>\n",
       "      <td>0.0</td>\n",
       "      <td>0.0</td>\n",
       "      <td>7</td>\n",
       "      <td>1</td>\n",
       "    </tr>\n",
       "    <tr>\n",
       "      <th>3</th>\n",
       "      <td>801.0</td>\n",
       "      <td>2018</td>\n",
       "      <td>23.0</td>\n",
       "      <td>1.0</td>\n",
       "      <td>0</td>\n",
       "      <td>73.0</td>\n",
       "      <td>0.0</td>\n",
       "      <td>0.0</td>\n",
       "      <td>0.0</td>\n",
       "      <td>0.0</td>\n",
       "      <td>...</td>\n",
       "      <td>0.0</td>\n",
       "      <td>0.0</td>\n",
       "      <td>0.0</td>\n",
       "      <td>0</td>\n",
       "      <td>0</td>\n",
       "      <td>0</td>\n",
       "      <td>0.0</td>\n",
       "      <td>0.0</td>\n",
       "      <td>8</td>\n",
       "      <td>1</td>\n",
       "    </tr>\n",
       "    <tr>\n",
       "      <th>4</th>\n",
       "      <td>802.0</td>\n",
       "      <td>2018</td>\n",
       "      <td>23.0</td>\n",
       "      <td>1.0</td>\n",
       "      <td>0</td>\n",
       "      <td>37.0</td>\n",
       "      <td>12000.0</td>\n",
       "      <td>0.0</td>\n",
       "      <td>0.0</td>\n",
       "      <td>0.0</td>\n",
       "      <td>...</td>\n",
       "      <td>0.0</td>\n",
       "      <td>0.0</td>\n",
       "      <td>0.0</td>\n",
       "      <td>0</td>\n",
       "      <td>0</td>\n",
       "      <td>0</td>\n",
       "      <td>0.0</td>\n",
       "      <td>0.0</td>\n",
       "      <td>8</td>\n",
       "      <td>2</td>\n",
       "    </tr>\n",
       "    <tr>\n",
       "      <th>...</th>\n",
       "      <td>...</td>\n",
       "      <td>...</td>\n",
       "      <td>...</td>\n",
       "      <td>...</td>\n",
       "      <td>...</td>\n",
       "      <td>...</td>\n",
       "      <td>...</td>\n",
       "      <td>...</td>\n",
       "      <td>...</td>\n",
       "      <td>...</td>\n",
       "      <td>...</td>\n",
       "      <td>...</td>\n",
       "      <td>...</td>\n",
       "      <td>...</td>\n",
       "      <td>...</td>\n",
       "      <td>...</td>\n",
       "      <td>...</td>\n",
       "      <td>...</td>\n",
       "      <td>...</td>\n",
       "      <td>...</td>\n",
       "      <td>...</td>\n",
       "    </tr>\n",
       "    <tr>\n",
       "      <th>86389</th>\n",
       "      <td>9463101.0</td>\n",
       "      <td>2018</td>\n",
       "      <td>5.0</td>\n",
       "      <td>2.0</td>\n",
       "      <td>4</td>\n",
       "      <td>30.0</td>\n",
       "      <td>11000.0</td>\n",
       "      <td>3000.0</td>\n",
       "      <td>0.0</td>\n",
       "      <td>0.0</td>\n",
       "      <td>...</td>\n",
       "      <td>0.0</td>\n",
       "      <td>0.0</td>\n",
       "      <td>0.0</td>\n",
       "      <td>33</td>\n",
       "      <td>4</td>\n",
       "      <td>4</td>\n",
       "      <td>0.0</td>\n",
       "      <td>0.0</td>\n",
       "      <td>94631</td>\n",
       "      <td>1</td>\n",
       "    </tr>\n",
       "    <tr>\n",
       "      <th>86390</th>\n",
       "      <td>9463201.0</td>\n",
       "      <td>2018</td>\n",
       "      <td>15.0</td>\n",
       "      <td>2.0</td>\n",
       "      <td>0</td>\n",
       "      <td>80.0</td>\n",
       "      <td>0.0</td>\n",
       "      <td>0.0</td>\n",
       "      <td>0.0</td>\n",
       "      <td>0.0</td>\n",
       "      <td>...</td>\n",
       "      <td>0.0</td>\n",
       "      <td>0.0</td>\n",
       "      <td>0.0</td>\n",
       "      <td>73</td>\n",
       "      <td>0</td>\n",
       "      <td>0</td>\n",
       "      <td>10.0</td>\n",
       "      <td>0.0</td>\n",
       "      <td>94632</td>\n",
       "      <td>1</td>\n",
       "    </tr>\n",
       "    <tr>\n",
       "      <th>86391</th>\n",
       "      <td>9463203.0</td>\n",
       "      <td>2018</td>\n",
       "      <td>7.5</td>\n",
       "      <td>2.0</td>\n",
       "      <td>2</td>\n",
       "      <td>57.0</td>\n",
       "      <td>28000.0</td>\n",
       "      <td>30000.0</td>\n",
       "      <td>0.0</td>\n",
       "      <td>0.0</td>\n",
       "      <td>...</td>\n",
       "      <td>0.0</td>\n",
       "      <td>0.0</td>\n",
       "      <td>0.0</td>\n",
       "      <td>45</td>\n",
       "      <td>2</td>\n",
       "      <td>2</td>\n",
       "      <td>2.0</td>\n",
       "      <td>0.0</td>\n",
       "      <td>94632</td>\n",
       "      <td>3</td>\n",
       "    </tr>\n",
       "    <tr>\n",
       "      <th>86392</th>\n",
       "      <td>9463301.0</td>\n",
       "      <td>2018</td>\n",
       "      <td>15.0</td>\n",
       "      <td>1.0</td>\n",
       "      <td>0</td>\n",
       "      <td>57.0</td>\n",
       "      <td>15000.0</td>\n",
       "      <td>0.0</td>\n",
       "      <td>0.0</td>\n",
       "      <td>0.0</td>\n",
       "      <td>...</td>\n",
       "      <td>0.0</td>\n",
       "      <td>0.0</td>\n",
       "      <td>0.0</td>\n",
       "      <td>0</td>\n",
       "      <td>0</td>\n",
       "      <td>0</td>\n",
       "      <td>0.0</td>\n",
       "      <td>0.0</td>\n",
       "      <td>94633</td>\n",
       "      <td>1</td>\n",
       "    </tr>\n",
       "    <tr>\n",
       "      <th>86393</th>\n",
       "      <td>9463302.0</td>\n",
       "      <td>2018</td>\n",
       "      <td>15.0</td>\n",
       "      <td>1.0</td>\n",
       "      <td>0</td>\n",
       "      <td>27.0</td>\n",
       "      <td>35000.0</td>\n",
       "      <td>0.0</td>\n",
       "      <td>0.0</td>\n",
       "      <td>0.0</td>\n",
       "      <td>...</td>\n",
       "      <td>0.0</td>\n",
       "      <td>0.0</td>\n",
       "      <td>0.0</td>\n",
       "      <td>0</td>\n",
       "      <td>0</td>\n",
       "      <td>0</td>\n",
       "      <td>0.0</td>\n",
       "      <td>0.0</td>\n",
       "      <td>94633</td>\n",
       "      <td>2</td>\n",
       "    </tr>\n",
       "  </tbody>\n",
       "</table>\n",
       "<p>86022 rows × 30 columns</p>\n",
       "</div>"
      ],
      "text/plain": [
       "           RECID  FLPDYR  state  mstat  num_deps  age_head  e00200p  e00200s  \\\n",
       "0          401.0    2018   23.0    1.0         0      21.0  18000.0      0.0   \n",
       "1          601.0    2018   23.0    1.0         0      85.0      0.0      0.0   \n",
       "2          701.0    2018   23.0    1.0         0      61.0  12000.0      0.0   \n",
       "3          801.0    2018   23.0    1.0         0      73.0      0.0      0.0   \n",
       "4          802.0    2018   23.0    1.0         0      37.0  12000.0      0.0   \n",
       "...          ...     ...    ...    ...       ...       ...      ...      ...   \n",
       "86389  9463101.0    2018    5.0    2.0         4      30.0  11000.0   3000.0   \n",
       "86390  9463201.0    2018   15.0    2.0         0      80.0      0.0      0.0   \n",
       "86391  9463203.0    2018    7.5    2.0         2      57.0  28000.0  30000.0   \n",
       "86392  9463301.0    2018   15.0    1.0         0      57.0  15000.0      0.0   \n",
       "86393  9463302.0    2018   15.0    1.0         0      27.0  35000.0      0.0   \n",
       "\n",
       "       e00650  e02000  ...  p22250  p23250  f2441  age_spouse  n24  \\\n",
       "0         0.0     0.0  ...     0.0     0.0    0.0           0    0   \n",
       "1         0.0     0.0  ...     0.0     0.0    0.0           0    0   \n",
       "2         0.0     0.0  ...     0.0     0.0    0.0           0    0   \n",
       "3         0.0     0.0  ...     0.0     0.0    0.0           0    0   \n",
       "4         0.0     0.0  ...     0.0     0.0    0.0           0    0   \n",
       "...       ...     ...  ...     ...     ...    ...         ...  ...   \n",
       "86389     0.0     0.0  ...     0.0     0.0    0.0          33    4   \n",
       "86390     0.0     0.0  ...     0.0     0.0    0.0          73    0   \n",
       "86391     0.0     0.0  ...     0.0     0.0    0.0          45    2   \n",
       "86392     0.0     0.0  ...     0.0     0.0    0.0           0    0   \n",
       "86393     0.0     0.0  ...     0.0     0.0    0.0           0    0   \n",
       "\n",
       "       num_eitc_qualified_kids  e00300  e00800  serial  pernum  \n",
       "0                            0     0.0     0.0       4       1  \n",
       "1                            0     0.0     0.0       6       1  \n",
       "2                            0     0.0     0.0       7       1  \n",
       "3                            0     0.0     0.0       8       1  \n",
       "4                            0     0.0     0.0       8       2  \n",
       "...                        ...     ...     ...     ...     ...  \n",
       "86389                        4     0.0     0.0   94631       1  \n",
       "86390                        0    10.0     0.0   94632       1  \n",
       "86391                        2     2.0     0.0   94632       3  \n",
       "86392                        0     0.0     0.0   94633       1  \n",
       "86393                        0     0.0     0.0   94633       2  \n",
       "\n",
       "[86022 rows x 30 columns]"
      ]
     },
     "execution_count": 15,
     "metadata": {},
     "output_type": "execute_result"
    }
   ],
   "source": [
    "cps_tc"
   ]
  },
  {
   "cell_type": "code",
   "execution_count": 9,
   "metadata": {},
   "outputs": [
    {
     "data": {
      "text/plain": [
       "Index(['taxsimid', 'year', 'state', 'mstat', 'depx', 'page', 'pwages',\n",
       "       'swages', 'dividends', 'otherprop', 'pensions', 'gssi', 'transfers',\n",
       "       'rentpaid', 'proptax', 'otheritem', 'childcare', 'ui', 'depchild',\n",
       "       'mortgage', 'stcg', 'ltcg', 'dep13', 'sage', 'dep17', 'dep18', 'intrec',\n",
       "       'nonprop', 'serial', 'pernum'],\n",
       "      dtype='object')"
      ]
     },
     "execution_count": 9,
     "metadata": {},
     "output_type": "execute_result"
    }
   ],
   "source": [
    "concat.columns"
   ]
  },
  {
   "cell_type": "code",
   "execution_count": 8,
   "metadata": {},
   "outputs": [
    {
     "data": {
      "text/plain": [
       "(86022, 30)"
      ]
     },
     "execution_count": 8,
     "metadata": {},
     "output_type": "execute_result"
    }
   ],
   "source": [
    "concat.shape"
   ]
  }
 ],
 "metadata": {
  "kernelspec": {
   "display_name": "Python 3",
   "language": "python",
   "name": "python3"
  },
  "language_info": {
   "codemirror_mode": {
    "name": "ipython",
    "version": 3
   },
   "file_extension": ".py",
   "mimetype": "text/x-python",
   "name": "python",
   "nbconvert_exporter": "python",
   "pygments_lexer": "ipython3",
   "version": "3.7.7"
  }
 },
 "nbformat": 4,
 "nbformat_minor": 4
}
