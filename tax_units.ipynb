{
 "cells": [
  {
   "cell_type": "code",
   "execution_count": 1,
   "metadata": {},
   "outputs": [],
   "source": [
    "import numpy as np\n",
    "import pandas as pd\n",
    "import taxcalc as tc\n",
    "import microdf as mdf"
   ]
  },
  {
   "cell_type": "code",
   "execution_count": 2,
   "metadata": {},
   "outputs": [],
   "source": [
    "run 'convert_asec_taxcalc.py'"
   ]
  },
  {
   "cell_type": "code",
   "execution_count": 3,
   "metadata": {},
   "outputs": [],
   "source": [
    "run 'make_tax_units.py'"
   ]
  },
  {
   "cell_type": "code",
   "execution_count": 24,
   "metadata": {},
   "outputs": [],
   "source": [
    "person = pd.read_csv('~/UBICenter/covid_ui/asec_2019_ipums.csv.gz')"
   ]
  },
  {
   "cell_type": "markdown",
   "metadata": {},
   "source": [
    "## Preprocessing"
   ]
  },
  {
   "cell_type": "code",
   "execution_count": 25,
   "metadata": {},
   "outputs": [],
   "source": [
    "# Set columns to lowercase and to 0 or null as appropriate.\n",
    "prep_ipum(person)\n",
    "# Add taxid and related fields.\n",
    "tax_unit_id(person)\n",
    "# Add other person-level columns in taxcalc form.\n",
    "person = convert_asec_person_taxcalc(person)\n",
    "# 99 is the missing code for wksunem1.\n",
    "# Note: Missing codes for features used in taxcalc are recoded in\n",
    "# convert_asec_taxcalc.py.\n",
    "person.loc[person.wksunem1 == 99, 'wksunem1'] = 0"
   ]
  },
  {
   "cell_type": "markdown",
   "metadata": {},
   "source": [
    "## Add UI to person records"
   ]
  },
  {
   "cell_type": "code",
   "execution_count": 26,
   "metadata": {},
   "outputs": [],
   "source": [
    "FPUC_MAX_WEEKS = 17  # April to July.\n",
    "FPUC2_MAX_WEEKS = 17 + 22  # Adding August to December.\n",
    "FPUC_WEEKLY_BEN = 600\n",
    "person['fpuc'] = FPUC_WEEKLY_BEN * np.minimum(person.wksunem1, FPUC_MAX_WEEKS)\n",
    "person['fpuc2'] = FPUC_WEEKLY_BEN * np.minimum(person.wksunem1,\n",
    "                                               FPUC2_MAX_WEEKS)"
   ]
  },
  {
   "cell_type": "code",
   "execution_count": 27,
   "metadata": {},
   "outputs": [],
   "source": [
    "# Store original unemployment benefits.\n",
    "person['e02300_orig'] = person.e02300"
   ]
  },
  {
   "cell_type": "markdown",
   "metadata": {},
   "source": [
    "## Create tax units and calculate tax liability"
   ]
  },
  {
   "cell_type": "code",
   "execution_count": 28,
   "metadata": {},
   "outputs": [],
   "source": [
    "# Create tax unit dataframe.\n",
    "tu = create_tax_unit(person)\n",
    "tu['RECID'] = tu.taxid\n",
    "tu['tax'] = mdf.calc_df(records=tc.Records(tu), year=2018).tax.values"
   ]
  },
  {
   "cell_type": "markdown",
   "metadata": {},
   "source": [
    "Simulate FPUC."
   ]
  },
  {
   "cell_type": "code",
   "execution_count": 29,
   "metadata": {},
   "outputs": [],
   "source": [
    "# Create tax unit dataframe.\n",
    "person.e02300 = person.e02300_orig + person.fpuc\n",
    "tu_fpuc = create_tax_unit(person)\n",
    "tu['e02300_fpuc'] = tu_fpuc.e02300\n",
    "tu_fpuc['RECID'] = tu_fpuc.taxid\n",
    "tu['tax_fpuc'] = mdf.calc_df(records=tc.Records(tu_fpuc),\n",
    "                             year=2018).tax.values\n",
    "del tu_fpuc"
   ]
  },
  {
   "cell_type": "markdown",
   "metadata": {},
   "source": [
    "Simulate extended FPUC."
   ]
  },
  {
   "cell_type": "code",
   "execution_count": 30,
   "metadata": {},
   "outputs": [],
   "source": [
    "# Create tax unit dataframe.\n",
    "person.e02300 = person.e02300_orig + person.fpuc2\n",
    "tu_fpuc2 = create_tax_unit(person)\n",
    "tu['e02300_fpuc2'] = tu_fpuc2.e02300\n",
    "tu_fpuc2['RECID'] = tu_fpuc2.taxid\n",
    "tu['tax_fpuc2'] = mdf.calc_df(records=tc.Records(tu_fpuc2),\n",
    "                             year=2018).tax.values\n",
    "del tu_fpuc2"
   ]
  },
  {
   "cell_type": "markdown",
   "metadata": {},
   "source": [
    "## Merge back to the person level\n",
    "\n",
    "Have each person "
   ]
  },
  {
   "cell_type": "code",
   "execution_count": 11,
   "metadata": {},
   "outputs": [
    {
     "data": {
      "text/html": [
       "<div>\n",
       "<style scoped>\n",
       "    .dataframe tbody tr th:only-of-type {\n",
       "        vertical-align: middle;\n",
       "    }\n",
       "\n",
       "    .dataframe tbody tr th {\n",
       "        vertical-align: top;\n",
       "    }\n",
       "\n",
       "    .dataframe thead th {\n",
       "        text-align: right;\n",
       "    }\n",
       "</style>\n",
       "<table border=\"1\" class=\"dataframe\">\n",
       "  <thead>\n",
       "    <tr style=\"text-align: right;\">\n",
       "      <th></th>\n",
       "      <th>e02300</th>\n",
       "      <th>e02300_fpuc</th>\n",
       "      <th>tax</th>\n",
       "      <th>tax_fpuc</th>\n",
       "    </tr>\n",
       "  </thead>\n",
       "  <tbody>\n",
       "    <tr>\n",
       "      <th>0</th>\n",
       "      <td>0</td>\n",
       "      <td>0</td>\n",
       "      <td>4565.618219</td>\n",
       "      <td>4565.618219</td>\n",
       "    </tr>\n",
       "    <tr>\n",
       "      <th>1</th>\n",
       "      <td>0</td>\n",
       "      <td>0</td>\n",
       "      <td>0.000000</td>\n",
       "      <td>0.000000</td>\n",
       "    </tr>\n",
       "    <tr>\n",
       "      <th>2</th>\n",
       "      <td>0</td>\n",
       "      <td>0</td>\n",
       "      <td>2617.158353</td>\n",
       "      <td>2617.158353</td>\n",
       "    </tr>\n",
       "    <tr>\n",
       "      <th>3</th>\n",
       "      <td>0</td>\n",
       "      <td>0</td>\n",
       "      <td>0.000000</td>\n",
       "      <td>0.000000</td>\n",
       "    </tr>\n",
       "    <tr>\n",
       "      <th>4</th>\n",
       "      <td>0</td>\n",
       "      <td>0</td>\n",
       "      <td>0.000000</td>\n",
       "      <td>0.000000</td>\n",
       "    </tr>\n",
       "    <tr>\n",
       "      <th>...</th>\n",
       "      <td>...</td>\n",
       "      <td>...</td>\n",
       "      <td>...</td>\n",
       "      <td>...</td>\n",
       "    </tr>\n",
       "    <tr>\n",
       "      <th>86394</th>\n",
       "      <td>0</td>\n",
       "      <td>0</td>\n",
       "      <td>5261.231869</td>\n",
       "      <td>5261.231869</td>\n",
       "    </tr>\n",
       "    <tr>\n",
       "      <th>86395</th>\n",
       "      <td>0</td>\n",
       "      <td>0</td>\n",
       "      <td>5260.960374</td>\n",
       "      <td>5260.960374</td>\n",
       "    </tr>\n",
       "    <tr>\n",
       "      <th>86396</th>\n",
       "      <td>0</td>\n",
       "      <td>0</td>\n",
       "      <td>3585.158453</td>\n",
       "      <td>3585.158453</td>\n",
       "    </tr>\n",
       "    <tr>\n",
       "      <th>86397</th>\n",
       "      <td>0</td>\n",
       "      <td>0</td>\n",
       "      <td>21518.695306</td>\n",
       "      <td>21518.695306</td>\n",
       "    </tr>\n",
       "    <tr>\n",
       "      <th>86398</th>\n",
       "      <td>0</td>\n",
       "      <td>0</td>\n",
       "      <td>3585.158453</td>\n",
       "      <td>3585.158453</td>\n",
       "    </tr>\n",
       "  </tbody>\n",
       "</table>\n",
       "<p>86399 rows × 4 columns</p>\n",
       "</div>"
      ],
      "text/plain": [
       "       e02300  e02300_fpuc           tax      tax_fpuc\n",
       "0           0            0   4565.618219   4565.618219\n",
       "1           0            0      0.000000      0.000000\n",
       "2           0            0   2617.158353   2617.158353\n",
       "3           0            0      0.000000      0.000000\n",
       "4           0            0      0.000000      0.000000\n",
       "...       ...          ...           ...           ...\n",
       "86394       0            0   5261.231869   5261.231869\n",
       "86395       0            0   5260.960374   5260.960374\n",
       "86396       0            0   3585.158453   3585.158453\n",
       "86397       0            0  21518.695306  21518.695306\n",
       "86398       0            0   3585.158453   3585.158453\n",
       "\n",
       "[86399 rows x 4 columns]"
      ]
     },
     "execution_count": 11,
     "metadata": {},
     "output_type": "execute_result"
    }
   ],
   "source": [
    "tu[['e02300', 'e02300_fpuc', 'tax', 'tax_fpuc']]"
   ]
  },
  {
   "cell_type": "code",
   "execution_count": 12,
   "metadata": {},
   "outputs": [
    {
     "data": {
      "text/plain": [
       "0.030771622589546976"
      ]
     },
     "execution_count": 12,
     "metadata": {},
     "output_type": "execute_result"
    }
   ],
   "source": [
    "(person.wksunem1 > 0).mean()"
   ]
  },
  {
   "cell_type": "code",
   "execution_count": 15,
   "metadata": {},
   "outputs": [
    {
     "data": {
      "text/plain": [
       "0.019583559994907348"
      ]
     },
     "execution_count": 15,
     "metadata": {},
     "output_type": "execute_result"
    }
   ],
   "source": [
    "(tu.e02300 > 0).mean()"
   ]
  },
  {
   "cell_type": "code",
   "execution_count": 13,
   "metadata": {},
   "outputs": [
    {
     "data": {
      "text/plain": [
       "0.07105406312573062"
      ]
     },
     "execution_count": 13,
     "metadata": {},
     "output_type": "execute_result"
    }
   ],
   "source": [
    "(tu.e02300_fpuc > 0).mean()"
   ]
  },
  {
   "cell_type": "code",
   "execution_count": 19,
   "metadata": {},
   "outputs": [
    {
     "data": {
      "text/plain": [
       "5.658077231808007"
      ]
     },
     "execution_count": 19,
     "metadata": {},
     "output_type": "execute_result"
    }
   ],
   "source": [
    "tu.e02300_fpuc.sum() / tu.e02300.sum()"
   ]
  },
  {
   "cell_type": "code",
   "execution_count": 31,
   "metadata": {},
   "outputs": [
    {
     "data": {
      "text/plain": [
       "1.0006684382444695"
      ]
     },
     "execution_count": 31,
     "metadata": {},
     "output_type": "execute_result"
    }
   ],
   "source": [
    "tu.tax_fpuc.sum() / tu.tax.sum()"
   ]
  },
  {
   "cell_type": "code",
   "execution_count": 32,
   "metadata": {},
   "outputs": [
    {
     "data": {
      "text/plain": [
       "1.0009234493486514"
      ]
     },
     "execution_count": 32,
     "metadata": {},
     "output_type": "execute_result"
    }
   ],
   "source": [
    "tu.tax_fpuc2.sum() / tu.tax.sum()"
   ]
  },
  {
   "cell_type": "code",
   "execution_count": 14,
   "metadata": {},
   "outputs": [
    {
     "data": {
      "text/plain": [
       "count    86399.000000\n",
       "mean       537.477193\n",
       "std       2397.317471\n",
       "min          0.000000\n",
       "25%          0.000000\n",
       "50%          0.000000\n",
       "75%          0.000000\n",
       "max      54088.000000\n",
       "Name: e02300_fpuc, dtype: float64"
      ]
     },
     "execution_count": 14,
     "metadata": {},
     "output_type": "execute_result"
    }
   ],
   "source": [
    "tu.e02300_fpuc.describe()"
   ]
  }
 ],
 "metadata": {
  "kernelspec": {
   "display_name": "Python 3",
   "language": "python",
   "name": "python3"
  },
  "language_info": {
   "codemirror_mode": {
    "name": "ipython",
    "version": 3
   },
   "file_extension": ".py",
   "mimetype": "text/x-python",
   "name": "python",
   "nbconvert_exporter": "python",
   "pygments_lexer": "ipython3",
   "version": "3.7.7"
  }
 },
 "nbformat": 4,
 "nbformat_minor": 4
}
