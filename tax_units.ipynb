{
 "cells": [
  {
   "cell_type": "code",
   "execution_count": 1,
   "metadata": {},
   "outputs": [],
   "source": [
    "import numpy as np\n",
    "import pandas as pd\n",
    "import taxcalc as tc\n",
    "import microdf as mdf"
   ]
  },
  {
   "cell_type": "code",
   "execution_count": 2,
   "metadata": {},
   "outputs": [],
   "source": [
    "run 'convert_asec_taxcalc.py'"
   ]
  },
  {
   "cell_type": "code",
   "execution_count": 3,
   "metadata": {},
   "outputs": [],
   "source": [
    "run 'make_tax_units.py'"
   ]
  },
  {
   "cell_type": "code",
   "execution_count": 24,
   "metadata": {},
   "outputs": [],
   "source": [
    "person = pd.read_csv('~/UBICenter/covid_ui/asec_2019_ipums.csv.gz')"
   ]
  },
  {
   "cell_type": "markdown",
   "metadata": {},
   "source": [
    "## Preprocessing"
   ]
  },
  {
   "cell_type": "code",
   "execution_count": 25,
   "metadata": {},
   "outputs": [],
   "source": [
    "# Set columns to lowercase and to 0 or null as appropriate.\n",
    "prep_ipum(person)\n",
    "# Add taxid and related fields.\n",
    "tax_unit_id(person)\n",
    "# Add other person-level columns in taxcalc form.\n",
    "person = convert_asec_person_taxcalc(person)\n",
    "# 99 is the missing code for wksunem1.\n",
    "# Note: Missing codes for features used in taxcalc are recoded in\n",
    "# convert_asec_taxcalc.py.\n",
    "person.loc[person.wksunem1 == 99, 'wksunem1'] = 0"
   ]
  },
  {
   "cell_type": "markdown",
   "metadata": {},
   "source": [
    "## Add UI to person records"
   ]
  },
  {
   "cell_type": "code",
   "execution_count": 26,
   "metadata": {},
   "outputs": [],
   "source": [
    "FPUC_MAX_WEEKS = 17  # April to July.\n",
    "FPUC2_MAX_WEEKS = 17 + 22  # Adding August to December.\n",
    "FPUC_WEEKLY_BEN = 600\n",
    "person['fpuc'] = FPUC_WEEKLY_BEN * np.minimum(person.wksunem1, FPUC_MAX_WEEKS)\n",
    "person['fpuc2'] = FPUC_WEEKLY_BEN * np.minimum(person.wksunem1,\n",
    "                                               FPUC2_MAX_WEEKS)"
   ]
  },
  {
   "cell_type": "code",
   "execution_count": 27,
   "metadata": {},
   "outputs": [],
   "source": [
    "# Store original unemployment benefits.\n",
    "person['e02300_orig'] = person.e02300"
   ]
  },
  {
   "cell_type": "markdown",
   "metadata": {},
   "source": [
    "## Create tax units and calculate tax liability"
   ]
  },
  {
   "cell_type": "code",
   "execution_count": 28,
   "metadata": {},
   "outputs": [],
   "source": [
    "# Create tax unit dataframe.\n",
    "tu = create_tax_unit(person)\n",
    "tu['RECID'] = tu.taxid\n",
    "tu['tax'] = mdf.calc_df(records=tc.Records(tu), year=2018).tax.values"
   ]
  },
  {
   "cell_type": "markdown",
   "metadata": {},
   "source": [
    "Simulate FPUC."
   ]
  },
  {
   "cell_type": "code",
   "execution_count": 29,
   "metadata": {},
   "outputs": [],
   "source": [
    "# Create tax unit dataframe.\n",
    "person.e02300 = person.e02300_orig + person.fpuc\n",
    "tu_fpuc = create_tax_unit(person)\n",
    "tu['e02300_fpuc'] = tu_fpuc.e02300\n",
    "tu_fpuc['RECID'] = tu_fpuc.taxid\n",
    "tu['tax_fpuc'] = mdf.calc_df(records=tc.Records(tu_fpuc),\n",
    "                             year=2018).tax.values\n",
    "del tu_fpuc"
   ]
  },
  {
   "cell_type": "markdown",
   "metadata": {},
   "source": [
    "Simulate extended FPUC."
   ]
  },
  {
   "cell_type": "code",
   "execution_count": 30,
   "metadata": {},
   "outputs": [],
   "source": [
    "# Create tax unit dataframe.\n",
    "person.e02300 = person.e02300_orig + person.fpuc2\n",
    "tu_fpuc2 = create_tax_unit(person)\n",
    "tu['e02300_fpuc2'] = tu_fpuc2.e02300\n",
    "tu_fpuc2['RECID'] = tu_fpuc2.taxid\n",
    "tu['tax_fpuc2'] = mdf.calc_df(records=tc.Records(tu_fpuc2),\n",
    "                             year=2018).tax.values\n",
    "del tu_fpuc2"
   ]
  },
  {
   "cell_type": "code",
   "execution_count": 41,
   "metadata": {},
   "outputs": [],
   "source": [
    "# Change person e02300 back.\n",
    "person.e02300 = person.e02300_orig"
   ]
  },
  {
   "cell_type": "markdown",
   "metadata": {},
   "source": [
    "## Merge back to the person level\n",
    "\n",
    "Have each person pay the share of tax differences in proportion with their FPUC."
   ]
  },
  {
   "cell_type": "code",
   "execution_count": 42,
   "metadata": {},
   "outputs": [],
   "source": [
    "tu['fpuc_total'] = tu.e02300_fpuc - tu.e02300\n",
    "tu['fpuc2_total'] = tu.e02300_fpuc2 - tu.e02300\n",
    "tu['fpuc_tax_total'] = tu.tax_fpuc - tu.tax\n",
    "tu['fpuc2_tax_total'] = tu.tax_fpuc2 - tu.tax\n",
    "tu.set_index('RECID', inplace=True)"
   ]
  },
  {
   "cell_type": "code",
   "execution_count": 91,
   "metadata": {},
   "outputs": [],
   "source": [
    "person2 = person.merge(tu[['fpuc_total', 'fpuc2_total',\n",
    "                           'fpuc_tax_total', 'fpuc2_tax_total']],\n",
    "                       left_on='taxid', right_index=True)"
   ]
  },
  {
   "cell_type": "code",
   "execution_count": 92,
   "metadata": {},
   "outputs": [],
   "source": [
    "for i in ['fpuc', 'fpuc2']:\n",
    "    person2[i + '_tax'] = np.where(person2[i + '_total'] == 0, 0,\n",
    "        person2[i + '_tax_total'] * person2[i] / person2[i + '_total'])\n",
    "    person2[i + '_net'] = person2[i] - person2[i + '_tax']"
   ]
  },
  {
   "cell_type": "markdown",
   "metadata": {},
   "source": [
    "## Calculate budget-neutral UBIs and payroll taxes"
   ]
  },
  {
   "cell_type": "code",
   "execution_count": 93,
   "metadata": {},
   "outputs": [],
   "source": [
    "fpuc_budget = mdf.weighted_sum(person2, 'fpuc_net', 'asecwt')\n",
    "fpuc2_budget = mdf.weighted_sum(person2, 'fpuc2_net', 'asecwt')\n",
    "pop = person2.asecwt.sum()\n",
    "adult_pop = person2[person2.age > 17].asecwt.sum()\n",
    "total_fica = mdf.weighted_sum(person2, 'fica', 'asecwt')"
   ]
  },
  {
   "cell_type": "code",
   "execution_count": 94,
   "metadata": {},
   "outputs": [],
   "source": [
    "fpuc_ubi = fpuc_budget / pop\n",
    "fpuc_adult_ubi = fpuc_budget / adult_pop\n",
    "fpuc_fica_pct_cut = fpuc_budget / total_fica\n",
    "\n",
    "fpuc2_ubi = fpuc2_budget / pop\n",
    "fpuc2_adult_ubi = fpuc2_budget / adult_pop\n",
    "fpuc2_fica_pct_cut = fpuc2_budget / total_fica"
   ]
  },
  {
   "cell_type": "code",
   "execution_count": 95,
   "metadata": {},
   "outputs": [],
   "source": [
    "person2['fpuc_ubi'] = fpuc_ubi\n",
    "person2['fpuc_adult_ubi'] = np.where(person2.age > 17, fpuc_adult_ubi, 0)\n",
    "person2['fpuc_fica_cut'] = person2.fica * fpuc_fica_pct_cut\n",
    "\n",
    "person2['fpuc2_ubi'] = fpuc2_ubi\n",
    "person2['fpuc2_adult_ubi'] = np.where(person2.age > 17, fpuc2_adult_ubi, 0)\n",
    "person2['fpuc2_fica_cut'] = person2.fica * fpuc2_fica_pct_cut"
   ]
  },
  {
   "cell_type": "code",
   "execution_count": 99,
   "metadata": {},
   "outputs": [
    {
     "data": {
      "text/html": [
       "<div>\n",
       "<style scoped>\n",
       "    .dataframe tbody tr th:only-of-type {\n",
       "        vertical-align: middle;\n",
       "    }\n",
       "\n",
       "    .dataframe tbody tr th {\n",
       "        vertical-align: top;\n",
       "    }\n",
       "\n",
       "    .dataframe thead th {\n",
       "        text-align: right;\n",
       "    }\n",
       "</style>\n",
       "<table border=\"1\" class=\"dataframe\">\n",
       "  <thead>\n",
       "    <tr style=\"text-align: right;\">\n",
       "      <th></th>\n",
       "      <th>fpuc_net</th>\n",
       "      <th>fpuc_ubi</th>\n",
       "      <th>fpuc_adult_ubi</th>\n",
       "      <th>fpuc_fica_cut</th>\n",
       "    </tr>\n",
       "  </thead>\n",
       "  <tbody>\n",
       "    <tr>\n",
       "      <th>179509</th>\n",
       "      <td>0.000000</td>\n",
       "      <td>219.917603</td>\n",
       "      <td>284.685068</td>\n",
       "      <td>1074.596356</td>\n",
       "    </tr>\n",
       "    <tr>\n",
       "      <th>149590</th>\n",
       "      <td>0.000000</td>\n",
       "      <td>219.917603</td>\n",
       "      <td>0.000000</td>\n",
       "      <td>0.000000</td>\n",
       "    </tr>\n",
       "    <tr>\n",
       "      <th>16628</th>\n",
       "      <td>0.000000</td>\n",
       "      <td>219.917603</td>\n",
       "      <td>284.685068</td>\n",
       "      <td>1171.571072</td>\n",
       "    </tr>\n",
       "    <tr>\n",
       "      <th>150185</th>\n",
       "      <td>4550.678243</td>\n",
       "      <td>219.917603</td>\n",
       "      <td>284.685068</td>\n",
       "      <td>247.560594</td>\n",
       "    </tr>\n",
       "    <tr>\n",
       "      <th>66676</th>\n",
       "      <td>0.000000</td>\n",
       "      <td>219.917603</td>\n",
       "      <td>284.685068</td>\n",
       "      <td>0.000000</td>\n",
       "    </tr>\n",
       "    <tr>\n",
       "      <th>17040</th>\n",
       "      <td>0.000000</td>\n",
       "      <td>219.917603</td>\n",
       "      <td>0.000000</td>\n",
       "      <td>0.000000</td>\n",
       "    </tr>\n",
       "    <tr>\n",
       "      <th>133003</th>\n",
       "      <td>0.000000</td>\n",
       "      <td>219.917603</td>\n",
       "      <td>284.685068</td>\n",
       "      <td>0.000000</td>\n",
       "    </tr>\n",
       "    <tr>\n",
       "      <th>64858</th>\n",
       "      <td>0.000000</td>\n",
       "      <td>219.917603</td>\n",
       "      <td>284.685068</td>\n",
       "      <td>511.625227</td>\n",
       "    </tr>\n",
       "    <tr>\n",
       "      <th>146342</th>\n",
       "      <td>9000.000000</td>\n",
       "      <td>219.917603</td>\n",
       "      <td>284.685068</td>\n",
       "      <td>8.305955</td>\n",
       "    </tr>\n",
       "    <tr>\n",
       "      <th>165397</th>\n",
       "      <td>0.000000</td>\n",
       "      <td>219.917603</td>\n",
       "      <td>284.685068</td>\n",
       "      <td>288.874628</td>\n",
       "    </tr>\n",
       "  </tbody>\n",
       "</table>\n",
       "</div>"
      ],
      "text/plain": [
       "           fpuc_net    fpuc_ubi  fpuc_adult_ubi  fpuc_fica_cut\n",
       "179509     0.000000  219.917603      284.685068    1074.596356\n",
       "149590     0.000000  219.917603        0.000000       0.000000\n",
       "16628      0.000000  219.917603      284.685068    1171.571072\n",
       "150185  4550.678243  219.917603      284.685068     247.560594\n",
       "66676      0.000000  219.917603      284.685068       0.000000\n",
       "17040      0.000000  219.917603        0.000000       0.000000\n",
       "133003     0.000000  219.917603      284.685068       0.000000\n",
       "64858      0.000000  219.917603      284.685068     511.625227\n",
       "146342  9000.000000  219.917603      284.685068       8.305955\n",
       "165397     0.000000  219.917603      284.685068     288.874628"
      ]
     },
     "execution_count": 99,
     "metadata": {},
     "output_type": "execute_result"
    }
   ],
   "source": [
    "person2[['fpuc_net', 'fpuc_ubi', 'fpuc_adult_ubi', 'fpuc_fica_cut']].sample(10)"
   ]
  },
  {
   "cell_type": "markdown",
   "metadata": {},
   "source": [
    "## Aggregate to SPM units"
   ]
  },
  {
   "cell_type": "code",
   "execution_count": 72,
   "metadata": {},
   "outputs": [
    {
     "data": {
      "text/plain": [
       "103.159433661786"
      ]
     },
     "execution_count": 72,
     "metadata": {},
     "output_type": "execute_result"
    }
   ],
   "source": [
    "mdf.weighted_sum(person2, 'fpuc2_net', 'asecwt') / 1e9"
   ]
  },
  {
   "cell_type": "code",
   "execution_count": null,
   "metadata": {},
   "outputs": [],
   "source": [
    "mdf.weighted_sum(person2, 'fpuc2_net', 'asecwt') / 1e9"
   ]
  },
  {
   "cell_type": "code",
   "execution_count": 50,
   "metadata": {},
   "outputs": [
    {
     "data": {
      "text/html": [
       "<div>\n",
       "<style scoped>\n",
       "    .dataframe tbody tr th:only-of-type {\n",
       "        vertical-align: middle;\n",
       "    }\n",
       "\n",
       "    .dataframe tbody tr th {\n",
       "        vertical-align: top;\n",
       "    }\n",
       "\n",
       "    .dataframe thead th {\n",
       "        text-align: right;\n",
       "    }\n",
       "</style>\n",
       "<table border=\"1\" class=\"dataframe\">\n",
       "  <thead>\n",
       "    <tr style=\"text-align: right;\">\n",
       "      <th></th>\n",
       "      <th>year</th>\n",
       "      <th>serial</th>\n",
       "      <th>month</th>\n",
       "      <th>cpsid</th>\n",
       "      <th>asecflag</th>\n",
       "      <th>asecwth</th>\n",
       "      <th>statefip</th>\n",
       "      <th>pernum</th>\n",
       "      <th>cpsidp</th>\n",
       "      <th>asecwt</th>\n",
       "      <th>...</th>\n",
       "      <th>e02300_total</th>\n",
       "      <th>e02300_fpuc_total</th>\n",
       "      <th>e02300_fpuc2_total</th>\n",
       "      <th>tax_total</th>\n",
       "      <th>tax_fpuc_total</th>\n",
       "      <th>tax_fpuc2_total</th>\n",
       "      <th>fpuc_total</th>\n",
       "      <th>fpuc2_total</th>\n",
       "      <th>fpuc_tax_total</th>\n",
       "      <th>fpuc2_tax_total</th>\n",
       "    </tr>\n",
       "  </thead>\n",
       "  <tbody>\n",
       "    <tr>\n",
       "      <th>729</th>\n",
       "      <td>2019</td>\n",
       "      <td>567</td>\n",
       "      <td>3</td>\n",
       "      <td>0</td>\n",
       "      <td>1</td>\n",
       "      <td>588.46</td>\n",
       "      <td>23</td>\n",
       "      <td>3</td>\n",
       "      <td>0</td>\n",
       "      <td>1484.07</td>\n",
       "      <td>...</td>\n",
       "      <td>0</td>\n",
       "      <td>2400</td>\n",
       "      <td>2400</td>\n",
       "      <td>27702.634143</td>\n",
       "      <td>27827.295022</td>\n",
       "      <td>27827.295022</td>\n",
       "      <td>2400</td>\n",
       "      <td>2400</td>\n",
       "      <td>124.660879</td>\n",
       "      <td>124.660879</td>\n",
       "    </tr>\n",
       "    <tr>\n",
       "      <th>730</th>\n",
       "      <td>2019</td>\n",
       "      <td>567</td>\n",
       "      <td>3</td>\n",
       "      <td>0</td>\n",
       "      <td>1</td>\n",
       "      <td>588.46</td>\n",
       "      <td>23</td>\n",
       "      <td>4</td>\n",
       "      <td>0</td>\n",
       "      <td>1057.91</td>\n",
       "      <td>...</td>\n",
       "      <td>0</td>\n",
       "      <td>2400</td>\n",
       "      <td>2400</td>\n",
       "      <td>27702.634143</td>\n",
       "      <td>27827.295022</td>\n",
       "      <td>27827.295022</td>\n",
       "      <td>2400</td>\n",
       "      <td>2400</td>\n",
       "      <td>124.660879</td>\n",
       "      <td>124.660879</td>\n",
       "    </tr>\n",
       "    <tr>\n",
       "      <th>1968</th>\n",
       "      <td>2019</td>\n",
       "      <td>1459</td>\n",
       "      <td>3</td>\n",
       "      <td>20171204023900</td>\n",
       "      <td>1</td>\n",
       "      <td>424.03</td>\n",
       "      <td>33</td>\n",
       "      <td>2</td>\n",
       "      <td>20171204023903</td>\n",
       "      <td>545.73</td>\n",
       "      <td>...</td>\n",
       "      <td>0</td>\n",
       "      <td>1800</td>\n",
       "      <td>1800</td>\n",
       "      <td>2317.066667</td>\n",
       "      <td>2435.976146</td>\n",
       "      <td>2435.976146</td>\n",
       "      <td>1800</td>\n",
       "      <td>1800</td>\n",
       "      <td>118.909479</td>\n",
       "      <td>118.909479</td>\n",
       "    </tr>\n",
       "    <tr>\n",
       "      <th>1969</th>\n",
       "      <td>2019</td>\n",
       "      <td>1459</td>\n",
       "      <td>3</td>\n",
       "      <td>20171204023900</td>\n",
       "      <td>1</td>\n",
       "      <td>424.03</td>\n",
       "      <td>33</td>\n",
       "      <td>3</td>\n",
       "      <td>20171204023902</td>\n",
       "      <td>587.95</td>\n",
       "      <td>...</td>\n",
       "      <td>0</td>\n",
       "      <td>1800</td>\n",
       "      <td>1800</td>\n",
       "      <td>2317.066667</td>\n",
       "      <td>2435.976146</td>\n",
       "      <td>2435.976146</td>\n",
       "      <td>1800</td>\n",
       "      <td>1800</td>\n",
       "      <td>118.909479</td>\n",
       "      <td>118.909479</td>\n",
       "    </tr>\n",
       "    <tr>\n",
       "      <th>4179</th>\n",
       "      <td>2019</td>\n",
       "      <td>2705</td>\n",
       "      <td>3</td>\n",
       "      <td>20190306373800</td>\n",
       "      <td>1</td>\n",
       "      <td>237.69</td>\n",
       "      <td>50</td>\n",
       "      <td>1</td>\n",
       "      <td>20190306373801</td>\n",
       "      <td>237.69</td>\n",
       "      <td>...</td>\n",
       "      <td>0</td>\n",
       "      <td>10800</td>\n",
       "      <td>15600</td>\n",
       "      <td>39256.110693</td>\n",
       "      <td>39817.084647</td>\n",
       "      <td>40066.406404</td>\n",
       "      <td>10800</td>\n",
       "      <td>15600</td>\n",
       "      <td>560.973954</td>\n",
       "      <td>810.295712</td>\n",
       "    </tr>\n",
       "    <tr>\n",
       "      <th>...</th>\n",
       "      <td>...</td>\n",
       "      <td>...</td>\n",
       "      <td>...</td>\n",
       "      <td>...</td>\n",
       "      <td>...</td>\n",
       "      <td>...</td>\n",
       "      <td>...</td>\n",
       "      <td>...</td>\n",
       "      <td>...</td>\n",
       "      <td>...</td>\n",
       "      <td>...</td>\n",
       "      <td>...</td>\n",
       "      <td>...</td>\n",
       "      <td>...</td>\n",
       "      <td>...</td>\n",
       "      <td>...</td>\n",
       "      <td>...</td>\n",
       "      <td>...</td>\n",
       "      <td>...</td>\n",
       "      <td>...</td>\n",
       "      <td>...</td>\n",
       "    </tr>\n",
       "    <tr>\n",
       "      <th>177848</th>\n",
       "      <td>2019</td>\n",
       "      <td>93566</td>\n",
       "      <td>3</td>\n",
       "      <td>20190101962900</td>\n",
       "      <td>1</td>\n",
       "      <td>1087.15</td>\n",
       "      <td>15</td>\n",
       "      <td>2</td>\n",
       "      <td>20190101962902</td>\n",
       "      <td>1087.15</td>\n",
       "      <td>...</td>\n",
       "      <td>0</td>\n",
       "      <td>14400</td>\n",
       "      <td>14400</td>\n",
       "      <td>25635.885333</td>\n",
       "      <td>26383.850605</td>\n",
       "      <td>26383.850605</td>\n",
       "      <td>14400</td>\n",
       "      <td>14400</td>\n",
       "      <td>747.965272</td>\n",
       "      <td>747.965272</td>\n",
       "    </tr>\n",
       "    <tr>\n",
       "      <th>177876</th>\n",
       "      <td>2019</td>\n",
       "      <td>93577</td>\n",
       "      <td>3</td>\n",
       "      <td>20180301990100</td>\n",
       "      <td>1</td>\n",
       "      <td>399.66</td>\n",
       "      <td>15</td>\n",
       "      <td>2</td>\n",
       "      <td>20180301990102</td>\n",
       "      <td>399.66</td>\n",
       "      <td>...</td>\n",
       "      <td>4410</td>\n",
       "      <td>10410</td>\n",
       "      <td>10410</td>\n",
       "      <td>29851.945177</td>\n",
       "      <td>30163.597374</td>\n",
       "      <td>30163.597374</td>\n",
       "      <td>6000</td>\n",
       "      <td>6000</td>\n",
       "      <td>311.652197</td>\n",
       "      <td>311.652197</td>\n",
       "    </tr>\n",
       "    <tr>\n",
       "      <th>177878</th>\n",
       "      <td>2019</td>\n",
       "      <td>93577</td>\n",
       "      <td>3</td>\n",
       "      <td>20180301990100</td>\n",
       "      <td>1</td>\n",
       "      <td>399.66</td>\n",
       "      <td>15</td>\n",
       "      <td>4</td>\n",
       "      <td>20180301990104</td>\n",
       "      <td>585.61</td>\n",
       "      <td>...</td>\n",
       "      <td>4410</td>\n",
       "      <td>10410</td>\n",
       "      <td>10410</td>\n",
       "      <td>29851.945177</td>\n",
       "      <td>30163.597374</td>\n",
       "      <td>30163.597374</td>\n",
       "      <td>6000</td>\n",
       "      <td>6000</td>\n",
       "      <td>311.652197</td>\n",
       "      <td>311.652197</td>\n",
       "    </tr>\n",
       "    <tr>\n",
       "      <th>178095</th>\n",
       "      <td>2019</td>\n",
       "      <td>93701</td>\n",
       "      <td>3</td>\n",
       "      <td>20180201936400</td>\n",
       "      <td>1</td>\n",
       "      <td>548.87</td>\n",
       "      <td>15</td>\n",
       "      <td>3</td>\n",
       "      <td>20180201936408</td>\n",
       "      <td>469.31</td>\n",
       "      <td>...</td>\n",
       "      <td>0</td>\n",
       "      <td>15000</td>\n",
       "      <td>20400</td>\n",
       "      <td>7705.898781</td>\n",
       "      <td>8130.879050</td>\n",
       "      <td>8283.871946</td>\n",
       "      <td>15000</td>\n",
       "      <td>20400</td>\n",
       "      <td>424.980268</td>\n",
       "      <td>577.973165</td>\n",
       "    </tr>\n",
       "    <tr>\n",
       "      <th>178096</th>\n",
       "      <td>2019</td>\n",
       "      <td>93701</td>\n",
       "      <td>3</td>\n",
       "      <td>20180201936400</td>\n",
       "      <td>1</td>\n",
       "      <td>548.87</td>\n",
       "      <td>15</td>\n",
       "      <td>4</td>\n",
       "      <td>20180201936407</td>\n",
       "      <td>469.31</td>\n",
       "      <td>...</td>\n",
       "      <td>0</td>\n",
       "      <td>15000</td>\n",
       "      <td>20400</td>\n",
       "      <td>7705.898781</td>\n",
       "      <td>8130.879050</td>\n",
       "      <td>8283.871946</td>\n",
       "      <td>15000</td>\n",
       "      <td>20400</td>\n",
       "      <td>424.980268</td>\n",
       "      <td>577.973165</td>\n",
       "    </tr>\n",
       "  </tbody>\n",
       "</table>\n",
       "<p>431 rows × 95 columns</p>\n",
       "</div>"
      ],
      "text/plain": [
       "        year  serial  month           cpsid  asecflag  asecwth  statefip  \\\n",
       "729     2019     567      3               0         1   588.46        23   \n",
       "730     2019     567      3               0         1   588.46        23   \n",
       "1968    2019    1459      3  20171204023900         1   424.03        33   \n",
       "1969    2019    1459      3  20171204023900         1   424.03        33   \n",
       "4179    2019    2705      3  20190306373800         1   237.69        50   \n",
       "...      ...     ...    ...             ...       ...      ...       ...   \n",
       "177848  2019   93566      3  20190101962900         1  1087.15        15   \n",
       "177876  2019   93577      3  20180301990100         1   399.66        15   \n",
       "177878  2019   93577      3  20180301990100         1   399.66        15   \n",
       "178095  2019   93701      3  20180201936400         1   548.87        15   \n",
       "178096  2019   93701      3  20180201936400         1   548.87        15   \n",
       "\n",
       "        pernum          cpsidp   asecwt  ...  e02300_total  e02300_fpuc_total  \\\n",
       "729          3               0  1484.07  ...             0               2400   \n",
       "730          4               0  1057.91  ...             0               2400   \n",
       "1968         2  20171204023903   545.73  ...             0               1800   \n",
       "1969         3  20171204023902   587.95  ...             0               1800   \n",
       "4179         1  20190306373801   237.69  ...             0              10800   \n",
       "...        ...             ...      ...  ...           ...                ...   \n",
       "177848       2  20190101962902  1087.15  ...             0              14400   \n",
       "177876       2  20180301990102   399.66  ...          4410              10410   \n",
       "177878       4  20180301990104   585.61  ...          4410              10410   \n",
       "178095       3  20180201936408   469.31  ...             0              15000   \n",
       "178096       4  20180201936407   469.31  ...             0              15000   \n",
       "\n",
       "        e02300_fpuc2_total     tax_total  tax_fpuc_total  tax_fpuc2_total  \\\n",
       "729                   2400  27702.634143    27827.295022     27827.295022   \n",
       "730                   2400  27702.634143    27827.295022     27827.295022   \n",
       "1968                  1800   2317.066667     2435.976146      2435.976146   \n",
       "1969                  1800   2317.066667     2435.976146      2435.976146   \n",
       "4179                 15600  39256.110693    39817.084647     40066.406404   \n",
       "...                    ...           ...             ...              ...   \n",
       "177848               14400  25635.885333    26383.850605     26383.850605   \n",
       "177876               10410  29851.945177    30163.597374     30163.597374   \n",
       "177878               10410  29851.945177    30163.597374     30163.597374   \n",
       "178095               20400   7705.898781     8130.879050      8283.871946   \n",
       "178096               20400   7705.898781     8130.879050      8283.871946   \n",
       "\n",
       "        fpuc_total  fpuc2_total  fpuc_tax_total  fpuc2_tax_total  \n",
       "729           2400         2400      124.660879       124.660879  \n",
       "730           2400         2400      124.660879       124.660879  \n",
       "1968          1800         1800      118.909479       118.909479  \n",
       "1969          1800         1800      118.909479       118.909479  \n",
       "4179         10800        15600      560.973954       810.295712  \n",
       "...            ...          ...             ...              ...  \n",
       "177848       14400        14400      747.965272       747.965272  \n",
       "177876        6000         6000      311.652197       311.652197  \n",
       "177878        6000         6000      311.652197       311.652197  \n",
       "178095       15000        20400      424.980268       577.973165  \n",
       "178096       15000        20400      424.980268       577.973165  \n",
       "\n",
       "[431 rows x 95 columns]"
      ]
     },
     "execution_count": 50,
     "metadata": {},
     "output_type": "execute_result"
    }
   ],
   "source": [
    "person2[(person2.fpuc < person2.fpuc_total) & (person2.fpuc > 0)]"
   ]
  },
  {
   "cell_type": "code",
   "execution_count": 19,
   "metadata": {},
   "outputs": [
    {
     "data": {
      "text/plain": [
       "5.658077231808007"
      ]
     },
     "execution_count": 19,
     "metadata": {},
     "output_type": "execute_result"
    }
   ],
   "source": [
    "tu.e02300_fpuc.sum() / tu.e02300.sum()"
   ]
  },
  {
   "cell_type": "code",
   "execution_count": 31,
   "metadata": {},
   "outputs": [
    {
     "data": {
      "text/plain": [
       "1.0006684382444695"
      ]
     },
     "execution_count": 31,
     "metadata": {},
     "output_type": "execute_result"
    }
   ],
   "source": [
    "tu.tax_fpuc.sum() / tu.tax.sum()"
   ]
  },
  {
   "cell_type": "code",
   "execution_count": 32,
   "metadata": {},
   "outputs": [
    {
     "data": {
      "text/plain": [
       "1.0009234493486514"
      ]
     },
     "execution_count": 32,
     "metadata": {},
     "output_type": "execute_result"
    }
   ],
   "source": [
    "tu.tax_fpuc2.sum() / tu.tax.sum()"
   ]
  },
  {
   "cell_type": "code",
   "execution_count": 14,
   "metadata": {},
   "outputs": [
    {
     "data": {
      "text/plain": [
       "count    86399.000000\n",
       "mean       537.477193\n",
       "std       2397.317471\n",
       "min          0.000000\n",
       "25%          0.000000\n",
       "50%          0.000000\n",
       "75%          0.000000\n",
       "max      54088.000000\n",
       "Name: e02300_fpuc, dtype: float64"
      ]
     },
     "execution_count": 14,
     "metadata": {},
     "output_type": "execute_result"
    }
   ],
   "source": [
    "tu.e02300_fpuc.describe()"
   ]
  }
 ],
 "metadata": {
  "kernelspec": {
   "display_name": "Python 3",
   "language": "python",
   "name": "python3"
  },
  "language_info": {
   "codemirror_mode": {
    "name": "ipython",
    "version": 3
   },
   "file_extension": ".py",
   "mimetype": "text/x-python",
   "name": "python",
   "nbconvert_exporter": "python",
   "pygments_lexer": "ipython3",
   "version": "3.7.7"
  }
 },
 "nbformat": 4,
 "nbformat_minor": 4
}
