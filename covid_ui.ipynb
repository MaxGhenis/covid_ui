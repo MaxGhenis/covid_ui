{
 "cells": [
  {
   "cell_type": "markdown",
   "metadata": {},
   "source": [
    "# Covid-19 unemployment benefits, payroll tax cuts, and UBI"
   ]
  },
  {
   "cell_type": "markdown",
   "metadata": {},
   "source": [
    "## Setup"
   ]
  },
  {
   "cell_type": "code",
   "execution_count": 1,
   "metadata": {},
   "outputs": [],
   "source": [
    "import numpy as np\n",
    "import pandas as pd\n",
    "import microdf as mdf"
   ]
  },
  {
   "cell_type": "markdown",
   "metadata": {},
   "source": [
    "Note that `FFPOS` is in family dataset, `PH_SEQ`.\n",
    "\n",
    "Per https://www2.census.gov/programs-surveys/demo/datasets/income-poverty/time-series/data-extracts/final-cps-pums-v3-ll-layout.pdf"
   ]
  },
  {
   "cell_type": "code",
   "execution_count": 2,
   "metadata": {},
   "outputs": [],
   "source": [
    "p = pd.read_csv('/home/mghenis/MaxGhenis/datarepo/pppub19.csv.gz')\n",
    "f = pd.read_csv('/home/mghenis/MaxGhenis/datarepo/ffpub19.csv')\n",
    "h = pd.read_csv('/home/mghenis/MaxGhenis/datarepo/hhpub19.csv')"
   ]
  },
  {
   "cell_type": "code",
   "execution_count": 3,
   "metadata": {},
   "outputs": [],
   "source": [
    "cps = pd.read_csv('/home/mghenis/MaxGhenis/datarepo/cpsmar2018.csv.gz')"
   ]
  },
  {
   "cell_type": "markdown",
   "metadata": {},
   "source": [
    "Merge"
   ]
  },
  {
   "cell_type": "code",
   "execution_count": 6,
   "metadata": {},
   "outputs": [],
   "source": [
    "p.columns = p.columns.str.lower()\n",
    "f.columns = f.columns.str.lower()\n",
    "h.columns = h.columns.str.lower()"
   ]
  },
  {
   "cell_type": "code",
   "execution_count": 7,
   "metadata": {},
   "outputs": [],
   "source": [
    "h['ph_seq'] = h.h_seq\n",
    "p['fh_seq'] = p.ph_seq\n",
    "p['ffpos'] = p.phf_seq"
   ]
  },
  {
   "cell_type": "code",
   "execution_count": 8,
   "metadata": {},
   "outputs": [
    {
     "data": {
      "text/plain": [
       "0        3\n",
       "1        3\n",
       "2        3\n",
       "3        1\n",
       "4        3\n",
       "        ..\n",
       "94628    1\n",
       "94629    1\n",
       "94630    1\n",
       "94631    1\n",
       "94632    1\n",
       "Name: h_hhtype, Length: 94633, dtype: int64"
      ]
     },
     "execution_count": 8,
     "metadata": {},
     "output_type": "execute_result"
    }
   ],
   "source": [
    "h.h_hhtype"
   ]
  },
  {
   "cell_type": "code",
   "execution_count": 10,
   "metadata": {},
   "outputs": [],
   "source": [
    "merged = p.merge(h[h.h_hhtype == 1], on='ph_seq')\n",
    "merged = merged.merge(f, on=['fh_seq', 'ffpos'], how='left')"
   ]
  },
  {
   "cell_type": "code",
   "execution_count": 11,
   "metadata": {},
   "outputs": [
    {
     "data": {
      "text/plain": [
       "(180101, 1021)"
      ]
     },
     "execution_count": 11,
     "metadata": {},
     "output_type": "execute_result"
    }
   ],
   "source": [
    "merged.shape"
   ]
  },
  {
   "cell_type": "code",
   "execution_count": 14,
   "metadata": {},
   "outputs": [
    {
     "ename": "KeyError",
     "evalue": "\"['iahityp', 'tretval1', 'paid', 'hmcare', 'i_otyp', 'ahiper', 'otyp_5', 'tretval2', 'pelndad', 'paidcyna', 'i_retsc1', 'tcare_val', 'i_ostper', 'i_oth', 'axspouse', 'hilin1', 'tot_inc', 'earned_inc', 'hilin2', 'hi', 'prityp', 'cov_gh', 'i_out', 'hchamp', 'i_retvl2', 'mon', 'hi_yn', 'i_dephi', 'ahityp5', 'h_type', 'i_pout', 'i_ostyp', 'tint_val', 'fwifeidx', 'ch_hi', 'cov_hi', 'ret_yn', 'i_paid', 'i_edtyp2', 'pxdadtyp', 'i_hiout', 'p_flag', 'pedadtyp', 'hiout', 'othstyp1', 'othstyp6', 'sskidyna', 'ahityp3', 'unearned_inc', 'prop_tax', 'i_hi', 'pilin1', 'pxlndad', 'pout', 'i_edtyp1', 'hret_yn', 's_flag', 'care', 'statetax_bc', 'ahityp1', 'oth', 'axrrp', 'pelnmom', 'othstyp5', 'tanf_val', 'otyp_2', 'h_idnum1', 'out', 'ret_sc1', 'i_retvl1', 'i_mon', 'i_retsc2', 'ahityp6', 'champ', 'othstyp2', 'alimony', 'ssikidyn', 'hretval', 'hityp', 'finc_ret', 'hhpos', 'a_parent', 'iahiper', 'hhid', 'othstyp4', 'hrpaidcc', 'ahityp2', 'pensions_annuities', 'othstyp3', 'rtm_val', 'depriv', 'Unnamed: 0', 'pilin2', 'i_retyn', 'h_idnum2', 'ahityp4', 'hhi_yn', 'ret_val1', 'pxlnmom', 'statetax_ac', 'paidccyn', 'fretval', 'hiemp', 'ffposold', 'axmaritl', 'i_depriv', 'ssikdyna', 'otyp_3', 'ch_mc', 'fhusbidx', 'emcontrb', 'otyp_4', 'othstper', 'i_care', 'housing_val', 'otyp_1', 'ret_val2', 'housret', 'pemomtyp', 'care_val', 'hiown', 'pxmomtyp', 'd_flag', 'dephi', 'ret_sc2', 'i_careval', 'sskidyn', 'ppposold'] not in index\"",
     "output_type": "error",
     "traceback": [
      "\u001b[0;31m---------------------------------------------------------------------------\u001b[0m",
      "\u001b[0;31mKeyError\u001b[0m                                  Traceback (most recent call last)",
      "\u001b[0;32m<ipython-input-14-f9683bb5d781>\u001b[0m in \u001b[0;36m<module>\u001b[0;34m\u001b[0m\n\u001b[0;32m----> 1\u001b[0;31m \u001b[0mmerged\u001b[0m\u001b[0;34m[\u001b[0m\u001b[0mcps\u001b[0m\u001b[0;34m.\u001b[0m\u001b[0mcolumns\u001b[0m\u001b[0;34m]\u001b[0m\u001b[0;34m\u001b[0m\u001b[0;34m\u001b[0m\u001b[0m\n\u001b[0m",
      "\u001b[0;32m~/anaconda3/lib/python3.7/site-packages/pandas/core/frame.py\u001b[0m in \u001b[0;36m__getitem__\u001b[0;34m(self, key)\u001b[0m\n\u001b[1;32m   2804\u001b[0m             \u001b[0;32mif\u001b[0m \u001b[0mis_iterator\u001b[0m\u001b[0;34m(\u001b[0m\u001b[0mkey\u001b[0m\u001b[0;34m)\u001b[0m\u001b[0;34m:\u001b[0m\u001b[0;34m\u001b[0m\u001b[0;34m\u001b[0m\u001b[0m\n\u001b[1;32m   2805\u001b[0m                 \u001b[0mkey\u001b[0m \u001b[0;34m=\u001b[0m \u001b[0mlist\u001b[0m\u001b[0;34m(\u001b[0m\u001b[0mkey\u001b[0m\u001b[0;34m)\u001b[0m\u001b[0;34m\u001b[0m\u001b[0;34m\u001b[0m\u001b[0m\n\u001b[0;32m-> 2806\u001b[0;31m             \u001b[0mindexer\u001b[0m \u001b[0;34m=\u001b[0m \u001b[0mself\u001b[0m\u001b[0;34m.\u001b[0m\u001b[0mloc\u001b[0m\u001b[0;34m.\u001b[0m\u001b[0m_get_listlike_indexer\u001b[0m\u001b[0;34m(\u001b[0m\u001b[0mkey\u001b[0m\u001b[0;34m,\u001b[0m \u001b[0maxis\u001b[0m\u001b[0;34m=\u001b[0m\u001b[0;36m1\u001b[0m\u001b[0;34m,\u001b[0m \u001b[0mraise_missing\u001b[0m\u001b[0;34m=\u001b[0m\u001b[0;32mTrue\u001b[0m\u001b[0;34m)\u001b[0m\u001b[0;34m[\u001b[0m\u001b[0;36m1\u001b[0m\u001b[0;34m]\u001b[0m\u001b[0;34m\u001b[0m\u001b[0;34m\u001b[0m\u001b[0m\n\u001b[0m\u001b[1;32m   2807\u001b[0m \u001b[0;34m\u001b[0m\u001b[0m\n\u001b[1;32m   2808\u001b[0m         \u001b[0;31m# take() does not accept boolean indexers\u001b[0m\u001b[0;34m\u001b[0m\u001b[0;34m\u001b[0m\u001b[0;34m\u001b[0m\u001b[0m\n",
      "\u001b[0;32m~/anaconda3/lib/python3.7/site-packages/pandas/core/indexing.py\u001b[0m in \u001b[0;36m_get_listlike_indexer\u001b[0;34m(self, key, axis, raise_missing)\u001b[0m\n\u001b[1;32m   1551\u001b[0m \u001b[0;34m\u001b[0m\u001b[0m\n\u001b[1;32m   1552\u001b[0m         self._validate_read_indexer(\n\u001b[0;32m-> 1553\u001b[0;31m             \u001b[0mkeyarr\u001b[0m\u001b[0;34m,\u001b[0m \u001b[0mindexer\u001b[0m\u001b[0;34m,\u001b[0m \u001b[0mo\u001b[0m\u001b[0;34m.\u001b[0m\u001b[0m_get_axis_number\u001b[0m\u001b[0;34m(\u001b[0m\u001b[0maxis\u001b[0m\u001b[0;34m)\u001b[0m\u001b[0;34m,\u001b[0m \u001b[0mraise_missing\u001b[0m\u001b[0;34m=\u001b[0m\u001b[0mraise_missing\u001b[0m\u001b[0;34m\u001b[0m\u001b[0;34m\u001b[0m\u001b[0m\n\u001b[0m\u001b[1;32m   1554\u001b[0m         )\n\u001b[1;32m   1555\u001b[0m         \u001b[0;32mreturn\u001b[0m \u001b[0mkeyarr\u001b[0m\u001b[0;34m,\u001b[0m \u001b[0mindexer\u001b[0m\u001b[0;34m\u001b[0m\u001b[0;34m\u001b[0m\u001b[0m\n",
      "\u001b[0;32m~/anaconda3/lib/python3.7/site-packages/pandas/core/indexing.py\u001b[0m in \u001b[0;36m_validate_read_indexer\u001b[0;34m(self, key, indexer, axis, raise_missing)\u001b[0m\n\u001b[1;32m   1644\u001b[0m             \u001b[0;32mif\u001b[0m \u001b[0;32mnot\u001b[0m \u001b[0;34m(\u001b[0m\u001b[0mself\u001b[0m\u001b[0;34m.\u001b[0m\u001b[0mname\u001b[0m \u001b[0;34m==\u001b[0m \u001b[0;34m\"loc\"\u001b[0m \u001b[0;32mand\u001b[0m \u001b[0;32mnot\u001b[0m \u001b[0mraise_missing\u001b[0m\u001b[0;34m)\u001b[0m\u001b[0;34m:\u001b[0m\u001b[0;34m\u001b[0m\u001b[0;34m\u001b[0m\u001b[0m\n\u001b[1;32m   1645\u001b[0m                 \u001b[0mnot_found\u001b[0m \u001b[0;34m=\u001b[0m \u001b[0mlist\u001b[0m\u001b[0;34m(\u001b[0m\u001b[0mset\u001b[0m\u001b[0;34m(\u001b[0m\u001b[0mkey\u001b[0m\u001b[0;34m)\u001b[0m \u001b[0;34m-\u001b[0m \u001b[0mset\u001b[0m\u001b[0;34m(\u001b[0m\u001b[0max\u001b[0m\u001b[0;34m)\u001b[0m\u001b[0;34m)\u001b[0m\u001b[0;34m\u001b[0m\u001b[0;34m\u001b[0m\u001b[0m\n\u001b[0;32m-> 1646\u001b[0;31m                 \u001b[0;32mraise\u001b[0m \u001b[0mKeyError\u001b[0m\u001b[0;34m(\u001b[0m\u001b[0;34mf\"{not_found} not in index\"\u001b[0m\u001b[0;34m)\u001b[0m\u001b[0;34m\u001b[0m\u001b[0;34m\u001b[0m\u001b[0m\n\u001b[0m\u001b[1;32m   1647\u001b[0m \u001b[0;34m\u001b[0m\u001b[0m\n\u001b[1;32m   1648\u001b[0m             \u001b[0;31m# we skip the warning on Categorical/Interval\u001b[0m\u001b[0;34m\u001b[0m\u001b[0;34m\u001b[0m\u001b[0;34m\u001b[0m\u001b[0m\n",
      "\u001b[0;31mKeyError\u001b[0m: \"['iahityp', 'tretval1', 'paid', 'hmcare', 'i_otyp', 'ahiper', 'otyp_5', 'tretval2', 'pelndad', 'paidcyna', 'i_retsc1', 'tcare_val', 'i_ostper', 'i_oth', 'axspouse', 'hilin1', 'tot_inc', 'earned_inc', 'hilin2', 'hi', 'prityp', 'cov_gh', 'i_out', 'hchamp', 'i_retvl2', 'mon', 'hi_yn', 'i_dephi', 'ahityp5', 'h_type', 'i_pout', 'i_ostyp', 'tint_val', 'fwifeidx', 'ch_hi', 'cov_hi', 'ret_yn', 'i_paid', 'i_edtyp2', 'pxdadtyp', 'i_hiout', 'p_flag', 'pedadtyp', 'hiout', 'othstyp1', 'othstyp6', 'sskidyna', 'ahityp3', 'unearned_inc', 'prop_tax', 'i_hi', 'pilin1', 'pxlndad', 'pout', 'i_edtyp1', 'hret_yn', 's_flag', 'care', 'statetax_bc', 'ahityp1', 'oth', 'axrrp', 'pelnmom', 'othstyp5', 'tanf_val', 'otyp_2', 'h_idnum1', 'out', 'ret_sc1', 'i_retvl1', 'i_mon', 'i_retsc2', 'ahityp6', 'champ', 'othstyp2', 'alimony', 'ssikidyn', 'hretval', 'hityp', 'finc_ret', 'hhpos', 'a_parent', 'iahiper', 'hhid', 'othstyp4', 'hrpaidcc', 'ahityp2', 'pensions_annuities', 'othstyp3', 'rtm_val', 'depriv', 'Unnamed: 0', 'pilin2', 'i_retyn', 'h_idnum2', 'ahityp4', 'hhi_yn', 'ret_val1', 'pxlnmom', 'statetax_ac', 'paidccyn', 'fretval', 'hiemp', 'ffposold', 'axmaritl', 'i_depriv', 'ssikdyna', 'otyp_3', 'ch_mc', 'fhusbidx', 'emcontrb', 'otyp_4', 'othstper', 'i_care', 'housing_val', 'otyp_1', 'ret_val2', 'housret', 'pemomtyp', 'care_val', 'hiown', 'pxmomtyp', 'd_flag', 'dephi', 'ret_sc2', 'i_careval', 'sskidyn', 'ppposold'] not in index\""
     ]
    }
   ],
   "source": [
    "merged[cps.columns]"
   ]
  },
  {
   "cell_type": "code",
   "execution_count": 12,
   "metadata": {},
   "outputs": [
    {
     "data": {
      "text/plain": [
       "(180084, 709)"
      ]
     },
     "execution_count": 12,
     "metadata": {},
     "output_type": "execute_result"
    }
   ],
   "source": [
    "cps.shape"
   ]
  },
  {
   "cell_type": "code",
   "execution_count": 34,
   "metadata": {},
   "outputs": [],
   "source": [
    "p_raw = pd.read_csv('/home/mghenis/MaxGhenis/datarepo/pppub19.csv.gz',\n",
    "                    usecols=['PH_SEQ', 'PPPOS',\n",
    "                             'SPM_ID', 'SPM_POVTHRESHOLD', 'SPM_RESOURCES'])"
   ]
  },
  {
   "cell_type": "code",
   "execution_count": 37,
   "metadata": {},
   "outputs": [],
   "source": [
    "cps = pd.read_csv('/home/mghenis/MaxGhenis/datarepo/cpsmar2018.csv.gz',\n",
    "                  usecols=['lkweeks', 'marsupwt',\n",
    "                           'ph_seq', 'pppos', 'h_seq', 'a_lineno', 'ffpos'])"
   ]
  },
  {
   "cell_type": "code",
   "execution_count": 38,
   "metadata": {},
   "outputs": [],
   "source": [
    "tu = pd.read_csv('/home/mghenis/MaxGhenis/datarepo/cps_taxcalc_2018.csv.gz')"
   ]
  },
  {
   "cell_type": "markdown",
   "metadata": {},
   "source": [
    "## Preprocess"
   ]
  },
  {
   "cell_type": "code",
   "execution_count": 41,
   "metadata": {},
   "outputs": [],
   "source": [
    "spm.columns = spm.columns.str.lower()"
   ]
  },
  {
   "cell_type": "code",
   "execution_count": 50,
   "metadata": {},
   "outputs": [],
   "source": [
    "PERSON_IDS = ['ph_seq', 'pppos']\n",
    "person = spm.merge(cps, on=PERSON_IDS)\n",
    "\n",
    "FPUC_MAX_WEEKS = 17  # April to July.\n",
    "FPUC2_MAX_WEEKS = 17 + 22  # Adding August to December.\n",
    "FPUC_WEEKLY_BEN = 600\n",
    "person['fpuc'] = FPUC_WEEKLY_BEN * np.minimum(person.lkweeks, FPUC_MAX_WEEKS)\n",
    "person['fpuc2'] = FPUC_WEEKLY_BEN * np.minimum(person.lkweeks,\n",
    "                                               FPUC2_MAX_WEEKS)"
   ]
  },
  {
   "cell_type": "code",
   "execution_count": 59,
   "metadata": {},
   "outputs": [],
   "source": [
    "TU_IDS = ['h_seq', 'a_lineno', 'ffpos']\n",
    "tu_ui = person.groupby(TU_IDS)[['fpuc', 'fpuc2']].sum().reset_index()"
   ]
  },
  {
   "cell_type": "markdown",
   "metadata": {},
   "source": [
    "Verify these are the correct identifiers for tax units."
   ]
  },
  {
   "cell_type": "code",
   "execution_count": 58,
   "metadata": {},
   "outputs": [],
   "source": [
    "assert tu.duplicated(TU_IDS).sum() == 0"
   ]
  },
  {
   "cell_type": "code",
   "execution_count": 61,
   "metadata": {},
   "outputs": [],
   "source": [
    "tu2 = tu.merge(tu_ui, on=TU_IDS)"
   ]
  },
  {
   "cell_type": "code",
   "execution_count": 70,
   "metadata": {},
   "outputs": [
    {
     "data": {
      "text/html": [
       "<div>\n",
       "<style scoped>\n",
       "    .dataframe tbody tr th:only-of-type {\n",
       "        vertical-align: middle;\n",
       "    }\n",
       "\n",
       "    .dataframe tbody tr th {\n",
       "        vertical-align: top;\n",
       "    }\n",
       "\n",
       "    .dataframe thead th {\n",
       "        text-align: right;\n",
       "    }\n",
       "</style>\n",
       "<table border=\"1\" class=\"dataframe\">\n",
       "  <thead>\n",
       "    <tr style=\"text-align: right;\">\n",
       "      <th></th>\n",
       "      <th>ph_seq</th>\n",
       "      <th>pppos</th>\n",
       "    </tr>\n",
       "  </thead>\n",
       "  <tbody>\n",
       "    <tr>\n",
       "      <th>0</th>\n",
       "      <td>2</td>\n",
       "      <td>41</td>\n",
       "    </tr>\n",
       "    <tr>\n",
       "      <th>1</th>\n",
       "      <td>4</td>\n",
       "      <td>41</td>\n",
       "    </tr>\n",
       "    <tr>\n",
       "      <th>2</th>\n",
       "      <td>4</td>\n",
       "      <td>42</td>\n",
       "    </tr>\n",
       "    <tr>\n",
       "      <th>3</th>\n",
       "      <td>4</td>\n",
       "      <td>43</td>\n",
       "    </tr>\n",
       "    <tr>\n",
       "      <th>4</th>\n",
       "      <td>4</td>\n",
       "      <td>44</td>\n",
       "    </tr>\n",
       "    <tr>\n",
       "      <th>...</th>\n",
       "      <td>...</td>\n",
       "      <td>...</td>\n",
       "    </tr>\n",
       "    <tr>\n",
       "      <th>180079</th>\n",
       "      <td>92138</td>\n",
       "      <td>41</td>\n",
       "    </tr>\n",
       "    <tr>\n",
       "      <th>180080</th>\n",
       "      <td>92138</td>\n",
       "      <td>42</td>\n",
       "    </tr>\n",
       "    <tr>\n",
       "      <th>180081</th>\n",
       "      <td>92139</td>\n",
       "      <td>41</td>\n",
       "    </tr>\n",
       "    <tr>\n",
       "      <th>180082</th>\n",
       "      <td>92139</td>\n",
       "      <td>42</td>\n",
       "    </tr>\n",
       "    <tr>\n",
       "      <th>180083</th>\n",
       "      <td>92139</td>\n",
       "      <td>43</td>\n",
       "    </tr>\n",
       "  </tbody>\n",
       "</table>\n",
       "<p>180084 rows × 2 columns</p>\n",
       "</div>"
      ],
      "text/plain": [
       "        ph_seq  pppos\n",
       "0            2     41\n",
       "1            4     41\n",
       "2            4     42\n",
       "3            4     43\n",
       "4            4     44\n",
       "...        ...    ...\n",
       "180079   92138     41\n",
       "180080   92138     42\n",
       "180081   92139     41\n",
       "180082   92139     42\n",
       "180083   92139     43\n",
       "\n",
       "[180084 rows x 2 columns]"
      ]
     },
     "execution_count": 70,
     "metadata": {},
     "output_type": "execute_result"
    }
   ],
   "source": [
    "cps[PERSON_IDS]"
   ]
  },
  {
   "cell_type": "code",
   "execution_count": 69,
   "metadata": {},
   "outputs": [
    {
     "data": {
      "text/html": [
       "<div>\n",
       "<style scoped>\n",
       "    .dataframe tbody tr th:only-of-type {\n",
       "        vertical-align: middle;\n",
       "    }\n",
       "\n",
       "    .dataframe tbody tr th {\n",
       "        vertical-align: top;\n",
       "    }\n",
       "\n",
       "    .dataframe thead th {\n",
       "        text-align: right;\n",
       "    }\n",
       "</style>\n",
       "<table border=\"1\" class=\"dataframe\">\n",
       "  <thead>\n",
       "    <tr style=\"text-align: right;\">\n",
       "      <th></th>\n",
       "      <th>ph_seq</th>\n",
       "      <th>pppos</th>\n",
       "    </tr>\n",
       "  </thead>\n",
       "  <tbody>\n",
       "    <tr>\n",
       "      <th>0</th>\n",
       "      <td>4</td>\n",
       "      <td>41</td>\n",
       "    </tr>\n",
       "    <tr>\n",
       "      <th>1</th>\n",
       "      <td>6</td>\n",
       "      <td>41</td>\n",
       "    </tr>\n",
       "    <tr>\n",
       "      <th>2</th>\n",
       "      <td>7</td>\n",
       "      <td>41</td>\n",
       "    </tr>\n",
       "    <tr>\n",
       "      <th>3</th>\n",
       "      <td>8</td>\n",
       "      <td>41</td>\n",
       "    </tr>\n",
       "    <tr>\n",
       "      <th>4</th>\n",
       "      <td>8</td>\n",
       "      <td>42</td>\n",
       "    </tr>\n",
       "    <tr>\n",
       "      <th>...</th>\n",
       "      <td>...</td>\n",
       "      <td>...</td>\n",
       "    </tr>\n",
       "    <tr>\n",
       "      <th>180096</th>\n",
       "      <td>94632</td>\n",
       "      <td>44</td>\n",
       "    </tr>\n",
       "    <tr>\n",
       "      <th>180097</th>\n",
       "      <td>94632</td>\n",
       "      <td>45</td>\n",
       "    </tr>\n",
       "    <tr>\n",
       "      <th>180098</th>\n",
       "      <td>94632</td>\n",
       "      <td>46</td>\n",
       "    </tr>\n",
       "    <tr>\n",
       "      <th>180099</th>\n",
       "      <td>94633</td>\n",
       "      <td>41</td>\n",
       "    </tr>\n",
       "    <tr>\n",
       "      <th>180100</th>\n",
       "      <td>94633</td>\n",
       "      <td>42</td>\n",
       "    </tr>\n",
       "  </tbody>\n",
       "</table>\n",
       "<p>180101 rows × 2 columns</p>\n",
       "</div>"
      ],
      "text/plain": [
       "        ph_seq  pppos\n",
       "0            4     41\n",
       "1            6     41\n",
       "2            7     41\n",
       "3            8     41\n",
       "4            8     42\n",
       "...        ...    ...\n",
       "180096   94632     44\n",
       "180097   94632     45\n",
       "180098   94632     46\n",
       "180099   94633     41\n",
       "180100   94633     42\n",
       "\n",
       "[180101 rows x 2 columns]"
      ]
     },
     "execution_count": 69,
     "metadata": {},
     "output_type": "execute_result"
    }
   ],
   "source": [
    "spm[PERSON_IDS]"
   ]
  },
  {
   "cell_type": "code",
   "execution_count": 68,
   "metadata": {},
   "outputs": [
    {
     "data": {
      "text/plain": [
       "90807"
      ]
     },
     "execution_count": 68,
     "metadata": {},
     "output_type": "execute_result"
    }
   ],
   "source": [
    "person.shape[0]"
   ]
  },
  {
   "cell_type": "code",
   "execution_count": 62,
   "metadata": {},
   "outputs": [
    {
     "ename": "AssertionError",
     "evalue": "",
     "output_type": "error",
     "traceback": [
      "\u001b[0;31m---------------------------------------------------------------------------\u001b[0m",
      "\u001b[0;31mAssertionError\u001b[0m                            Traceback (most recent call last)",
      "\u001b[0;32m<ipython-input-62-741a5baba904>\u001b[0m in \u001b[0;36m<module>\u001b[0;34m\u001b[0m\n\u001b[0;32m----> 1\u001b[0;31m \u001b[0;32massert\u001b[0m \u001b[0mtu\u001b[0m\u001b[0;34m.\u001b[0m\u001b[0mshape\u001b[0m\u001b[0;34m[\u001b[0m\u001b[0;36m0\u001b[0m\u001b[0;34m]\u001b[0m \u001b[0;34m==\u001b[0m \u001b[0mtu2\u001b[0m\u001b[0;34m.\u001b[0m\u001b[0mshape\u001b[0m\u001b[0;34m[\u001b[0m\u001b[0;36m0\u001b[0m\u001b[0;34m]\u001b[0m\u001b[0;34m\u001b[0m\u001b[0;34m\u001b[0m\u001b[0m\n\u001b[0m",
      "\u001b[0;31mAssertionError\u001b[0m: "
     ]
    }
   ],
   "source": [
    "assert tu.shape[0] == tu2.shape[0]"
   ]
  },
  {
   "cell_type": "code",
   "execution_count": 48,
   "metadata": {},
   "outputs": [
    {
     "data": {
      "text/plain": [
       "65.46867936"
      ]
     },
     "execution_count": 48,
     "metadata": {},
     "output_type": "execute_result"
    }
   ],
   "source": [
    "(person.fpuc2 * person.marsupwt).sum() / 1e9"
   ]
  },
  {
   "cell_type": "code",
   "execution_count": 9,
   "metadata": {},
   "outputs": [
    {
     "data": {
      "text/plain": [
       "Index(['e00200', 'e00200p', 'e00200s', 'e00900', 'e00900p', 'e00900s',\n",
       "       'e02100', 'e02100p', 'e02100s', 'e00600', 'e01500', 'e00800', 'e02400',\n",
       "       'e02300', 'ssi_ben', 'tanf_ben', 'vet_ben', 'snap_ben', 'housing_ben',\n",
       "       'age_head', 'age_spouse', 'blind_head', 'fips', 'h_seq', 'a_lineno',\n",
       "       'ffpos', 's006', 'FLPDYR', 'EIC', 'DSI', 'MARS', 'XTOT', 'nu18',\n",
       "       'n1820', 'n21', 'nu06', 'nu13', 'n24', 'elderly_dependents', 'f2441',\n",
       "       'e18400', 'blind_spouse', 'e00650', 'e00300', 'e00400', 'e01700',\n",
       "       'e01100', 'e01400', 'e03300', 'e03270', 'e32800', 'e17500', 'e20400',\n",
       "       'e03240', 'e19200', 'e18500', 'mcaid_ben', 'mcare_ben', 'other_ben',\n",
       "       'e19800', 'e20100', 'e03210', 'e03150', 'RECID', 'agi_bin', 'pencon_p',\n",
       "       'pencon_s'],\n",
       "      dtype='object')"
      ]
     },
     "execution_count": 9,
     "metadata": {},
     "output_type": "execute_result"
    }
   ],
   "source": [
    "tu.columns"
   ]
  }
 ],
 "metadata": {
  "kernelspec": {
   "display_name": "Python 3",
   "language": "python",
   "name": "python3"
  },
  "language_info": {
   "codemirror_mode": {
    "name": "ipython",
    "version": 3
   },
   "file_extension": ".py",
   "mimetype": "text/x-python",
   "name": "python",
   "nbconvert_exporter": "python",
   "pygments_lexer": "ipython3",
   "version": "3.7.7"
  }
 },
 "nbformat": 4,
 "nbformat_minor": 4
}
