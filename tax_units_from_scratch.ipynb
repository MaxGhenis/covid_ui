{
 "cells": [
  {
   "cell_type": "markdown",
   "metadata": {},
   "source": [
    "# Create tax units from ASEC\n",
    "\n",
    "Refer to https://github.com/PSLmodels/taxdata/blob/master/cps_data/pycps/pycps.py and https://github.com/ernietedeschi/tcpoverty/blob/master/tcpov2a_make_taxsim27.R but start from scratch.\n",
    "\n",
    "**Goal: Add a unique tax unit number for each person.**\n",
    "\n",
    "This tax unit number is the line number of the primary filer, or the minimum line number of the spouses for married filers.\n",
    "\n",
    "It is created in the following way:\n",
    "1. \n",
    "\n",
    "## Setup"
   ]
  },
  {
   "cell_type": "code",
   "execution_count": 1,
   "metadata": {},
   "outputs": [],
   "source": [
    "import numpy as np\n",
    "import pandas as pd\n",
    "from paramtools.parameters import Parameters\n",
    "import requests"
   ]
  },
  {
   "cell_type": "code",
   "execution_count": 2,
   "metadata": {},
   "outputs": [],
   "source": [
    "# TODO: Add usecols once we know which columns are needed.\n",
    "COLS = ['a_age',  # Age\n",
    "        'a_famrel',  # Family relationship\n",
    "        'a_ftpt',  # Full or part time student\n",
    "        'a_lineno',  # Roster line number\n",
    "        'phf_seq',  # Pointer to sequence number of own family record\n",
    "                    # in household (ffpos)\n",
    "        'a_spouse',  # Spouse's line number.\n",
    "        'a_maritl',  # Marital status\n",
    "        'dep_stat',  # Dependent status\n",
    "        'ptotval',  # \n",
    "        'a_exprrp',  # Expanded relationship code\n",
    "        'filestat',  # Tax filer status (6=nonfiler)\n",
    "       ]\n",
    "raw = pd.read_csv('/home/mghenis/MaxGhenis/datarepo/pppub19.csv.gz',\n",
    "                  usecols=[col.upper() for col in COLS])"
   ]
  },
  {
   "cell_type": "markdown",
   "metadata": {},
   "source": [
    "## Constants and codes\n",
    "\n",
    "For 2018 tax year."
   ]
  },
  {
   "cell_type": "code",
   "execution_count": 4,
   "metadata": {},
   "outputs": [],
   "source": [
    "class FilingParams(Parameters):\n",
    "    defaults = requests.get(\n",
    "        'https://raw.githubusercontent.com/PSLmodels/taxdata/master/cps_data/pycps/filing_rules.json'\n",
    "    ).json()\n",
    "#     defaults = Path(CUR_PATH, \"filing_rules.json\").open(\"r\").read()\n",
    "    label_to_extend = \"year\"\n",
    "    array_first = True\n",
    "\n",
    "\n",
    "filingparams = FilingParams()"
   ]
  },
  {
   "cell_type": "code",
   "execution_count": 5,
   "metadata": {},
   "outputs": [],
   "source": [
    "CPS_YEAR = 2018\n",
    "cps_yr_idx = CPS_YEAR - filingparams.label_grid[\"year\"][0]"
   ]
  },
  {
   "cell_type": "code",
   "execution_count": 6,
   "metadata": {},
   "outputs": [
    {
     "data": {
      "text/plain": [
       "65"
      ]
     },
     "execution_count": 6,
     "metadata": {},
     "output_type": "execute_result"
    }
   ],
   "source": [
    "filingparams.elderly_age[cps_yr_idx]"
   ]
  },
  {
   "cell_type": "markdown",
   "metadata": {},
   "source": [
    "## Preprocess"
   ]
  },
  {
   "cell_type": "code",
   "execution_count": 7,
   "metadata": {},
   "outputs": [],
   "source": [
    "cps = raw.copy(deep=True)\n",
    "cps.columns = cps.columns.str.lower()"
   ]
  },
  {
   "cell_type": "markdown",
   "metadata": {},
   "source": [
    "Note `p_flag`, `s_flag`, and `d_flag` are instantiated as `False`,\n",
    "then set to `True` throughout the process upon certain conditions."
   ]
  }
 ],
 "metadata": {
  "kernelspec": {
   "display_name": "Python 3",
   "language": "python",
   "name": "python3"
  },
  "language_info": {
   "codemirror_mode": {
    "name": "ipython",
    "version": 3
   },
   "file_extension": ".py",
   "mimetype": "text/x-python",
   "name": "python",
   "nbconvert_exporter": "python",
   "pygments_lexer": "ipython3",
   "version": "3.7.7"
  }
 },
 "nbformat": 4,
 "nbformat_minor": 4
}
