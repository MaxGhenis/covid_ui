{
 "cells": [
  {
   "cell_type": "markdown",
   "metadata": {},
   "source": [
    "Comparing bonus unemployment, payroll tax cuts, and universal payments\n",
    "=============================================================\n",
    "\n",
    "This uses the 2018 Current Population Survey March Supplement, Tax-Calculator, and the Supplemental Poverty Measure to estimate the effects of the Federal Pandemic Unemployment Compensation (extra 600 dollars per week), a budget-neutral payroll tax cuts, and a budget-neutral universal payment."
   ]
  },
  {
   "cell_type": "code",
   "execution_count": null,
   "metadata": {},
   "outputs": [],
   "source": [
    "import numpy as np\n",
    "import pandas as pd\n",
    "import microdf as mdf\n",
    "import plotly.express as px\n",
    "import plotly\n",
    "\n",
    "spmu = pd.read_csv('spmu.csv.gz')\n",
    "person = pd.read_csv('person.csv.gz')\n",
    "\n",
    "# All potential reforms.\n",
    "CHG_COLS = ['fpuc_net', 'fpuc_ubi', 'fpuc_adult_ubi', 'fpuc_fica_cut',\n",
    "            'fpuc2_net', 'fpuc2_ubi', 'fpuc2_adult_ubi', 'fpuc2_fica_cut']"
   ]
  },
  {
   "cell_type": "markdown",
   "metadata": {},
   "source": [
    "## Poverty analysis"
   ]
  },
  {
   "cell_type": "code",
   "execution_count": null,
   "metadata": {},
   "outputs": [],
   "source": [
    "def pov(reform, year, age_group='All', race='All'):\n",
    "    \"\"\" Calculate the poverty rate under the specified reform for the\n",
    "        specified population.\n",
    "        Note: All arguments refer to the poverty population, not the reform.\n",
    "    \n",
    "    Args:\n",
    "        reform: One of CHG_COLS. If None, provides the baseline rate.\n",
    "        year: Year of the data (year before CPS survey year).\n",
    "        age_group: Age group, either\n",
    "            - 'Children' (under 18)\n",
    "            - 'Adults' (18 or over)\n",
    "            - 'All'\n",
    "        race: Race code to filter to. Defaults to 'All'.\n",
    "        \n",
    "    Returns:\n",
    "        2018 SPM poverty rate.\n",
    "    \"\"\"\n",
    "    if reform == 'baseline':\n",
    "        resource_col = 'spmpoor'\n",
    "    else:\n",
    "        resource_col = 'spmpoor_' + reform\n",
    "    target_persons = person[person.FLPDYR == year]\n",
    "    if age_group == 'Children':\n",
    "        target_persons = target_persons[target_persons.age < 18]\n",
    "    elif age_group == 'Adults':\n",
    "        target_persons = target_persons[target_persons.age >= 18]\n",
    "    if race != 'All':\n",
    "        target_persons = target_persons[target_persons.race == race]\n",
    "    return mdf.weighted_mean(target_persons, resource_col, 'asecwt')\n",
    "\n",
    "def pov_row(row):\n",
    "    \"\"\" Calculate poverty based on parameters specified in the row.\n",
    "    \n",
    "    Args:\n",
    "        row: pandas Series.\n",
    "        \n",
    "    Returns:\n",
    "        2018 SPM poverty rate.\n",
    "    \"\"\"\n",
    "    return pov(row.reform, row.age_group, row.race)"
   ]
  },
  {
   "cell_type": "code",
   "execution_count": null,
   "metadata": {},
   "outputs": [],
   "source": [
    "pov_rates = mdf.cartesian_product({'reform': ['baseline'] + CHG_COLS,\n",
    "                                   'year': person.FLPDYR.unique(),\n",
    "                                   'age_group': ['All', 'Children', 'Adults'],\n",
    "                                   'race': ['All', 200]})  # 200 means Black.\n",
    "pov_rates['pov'] = 100 * pov_rates.apply(pov_row, axis=1)"
   ]
  },
  {
   "cell_type": "markdown",
   "metadata": {},
   "source": [
    "Top-level poverty rates."
   ]
  },
  {
   "cell_type": "code",
   "execution_count": null,
   "metadata": {},
   "outputs": [],
   "source": [
    "pov_rates[(pov_rates.age_group == 'All') & (pov_rates.race == 'All')]"
   ]
  },
  {
   "cell_type": "markdown",
   "metadata": {},
   "source": [
    "Top-level child poverty rates."
   ]
  },
  {
   "cell_type": "code",
   "execution_count": null,
   "metadata": {},
   "outputs": [],
   "source": [
    "pov_rates[(pov_rates.age_group == 'Children') & (pov_rates.race == 'All')]"
   ]
  },
  {
   "cell_type": "markdown",
   "metadata": {},
   "source": [
    "### Poverty gap and inequality\n",
    "\n",
    "Calculate these for all people and SPM units, without breaking out by age or race."
   ]
  },
  {
   "cell_type": "code",
   "execution_count": null,
   "metadata": {},
   "outputs": [],
   "source": [
    "def pov_gap_b(reform, year):\n",
    "    if reform == 'baseline':\n",
    "        resource_col = 'spmtotres'\n",
    "    else:\n",
    "        resource_col = 'spmtotres_' + reform\n",
    "    spmu = spmu[spmu.FLPDYR == year]\n",
    "    pov_gap = np.maximum(spmu.spmthresh - spmu[resource_col], 0)\n",
    "    return (pov_gap * spmu.spmwt).sum() / 1e9\n",
    "\n",
    "def pov_gap_row(row):\n",
    "    return pov_gap_b(row.reform, row.year)"
   ]
  },
  {
   "cell_type": "code",
   "execution_count": null,
   "metadata": {},
   "outputs": [],
   "source": [
    "pov_gap_ineq = pov_rates[['reform', 'year']].drop_duplicates()\n",
    "pov_gap_ineq['pov_gap_b'] = pov_gap_ineq.apply(pov_gap_row, axis=1)"
   ]
  },
  {
   "cell_type": "markdown",
   "metadata": {},
   "source": [
    "### Inequality\n",
    "\n",
    "By individual based on their percentage of SPM resources."
   ]
  },
  {
   "cell_type": "code",
   "execution_count": null,
   "metadata": {},
   "outputs": [],
   "source": [
    "def gini(reform, year):\n",
    "    if reform == 'baseline':\n",
    "        resource_col = 'spmtotres'\n",
    "    else:\n",
    "        resource_col = 'spmtotres_' + reform\n",
    "    tmp = person[person.FLPDYR == year]\n",
    "    return mdf.gini(tmp[resource_col], tmp.asecwt)\n",
    "\n",
    "def gini_row(row):\n",
    "    return gini(row.reform, row.year)"
   ]
  },
  {
   "cell_type": "code",
   "execution_count": null,
   "metadata": {},
   "outputs": [],
   "source": [
    "pov_gap_ineq['gini'] = pov_gap_ineq.apply(gini_row, axis=1)\n",
    "pov_gap_ineq"
   ]
  }
 ],
 "metadata": {
  "kernelspec": {
   "display_name": "Python 3",
   "language": "python",
   "name": "python3"
  },
  "language_info": {
   "codemirror_mode": {
    "name": "ipython",
    "version": 3
   },
   "file_extension": ".py",
   "mimetype": "text/x-python",
   "name": "python",
   "nbconvert_exporter": "python",
   "pygments_lexer": "ipython3",
   "version": "3.7.7"
  }
 },
 "nbformat": 4,
 "nbformat_minor": 4
}
